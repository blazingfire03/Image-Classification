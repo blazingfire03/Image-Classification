{
  "cells": [
    {
      "cell_type": "markdown",
      "metadata": {
        "id": "view-in-github",
        "colab_type": "text"
      },
      "source": [
        "<a href=\"https://colab.research.google.com/github/blazingfire03/PROJECTS-2020/blob/main/neural_network_classification.ipynb\" target=\"_parent\"><img src=\"https://colab.research.google.com/assets/colab-badge.svg\" alt=\"Open In Colab\"/></a>"
      ]
    },
    {
      "cell_type": "markdown",
      "metadata": {
        "id": "Bp7FIHhClPy6"
      },
      "source": [
        "#### Creating data to view and fit "
      ]
    },
    {
      "cell_type": "code",
      "execution_count": 23,
      "metadata": {
        "id": "i3zlJcbdlPzE"
      },
      "outputs": [],
      "source": [
        "from sklearn.datasets import make_circles\n",
        "\n",
        "\n",
        "x,y = make_circles(1000,noise=0.03,random_state=42)\n",
        "\n"
      ]
    },
    {
      "cell_type": "code",
      "execution_count": 24,
      "metadata": {
        "id": "m8F-w-UKlPzJ",
        "outputId": "f179cbc7-92f4-4d49-eaae-28cdd743c64d",
        "colab": {
          "base_uri": "https://localhost:8080/"
        }
      },
      "outputs": [
        {
          "output_type": "execute_result",
          "data": {
            "text/plain": [
              "array([[ 0.75424625,  0.23148074],\n",
              "       [-0.75615888,  0.15325888],\n",
              "       [-0.81539193,  0.17328203],\n",
              "       ...,\n",
              "       [-0.13690036, -0.81001183],\n",
              "       [ 0.67036156, -0.76750154],\n",
              "       [ 0.28105665,  0.96382443]])"
            ]
          },
          "metadata": {},
          "execution_count": 24
        }
      ],
      "source": [
        "x"
      ]
    },
    {
      "cell_type": "code",
      "execution_count": 25,
      "metadata": {
        "id": "46ThthVRlPzM",
        "outputId": "58b7322b-0a9e-4f82-ea2f-f948e6c338d7",
        "colab": {
          "base_uri": "https://localhost:8080/"
        }
      },
      "outputs": [
        {
          "output_type": "execute_result",
          "data": {
            "text/plain": [
              "array([1, 1, 1, 1, 0, 1, 1, 1, 1, 0])"
            ]
          },
          "metadata": {},
          "execution_count": 25
        }
      ],
      "source": [
        "y[:10]"
      ]
    },
    {
      "cell_type": "code",
      "execution_count": 26,
      "metadata": {
        "id": "HetM5nmxlPzO",
        "outputId": "7631eae9-b59d-4766-bd0a-896aae4faf93",
        "colab": {
          "base_uri": "https://localhost:8080/",
          "height": 424
        }
      },
      "outputs": [
        {
          "output_type": "execute_result",
          "data": {
            "text/plain": [
              "           x0        x1  label\n",
              "0    0.754246  0.231481      1\n",
              "1   -0.756159  0.153259      1\n",
              "2   -0.815392  0.173282      1\n",
              "3   -0.393731  0.692883      1\n",
              "4    0.442208 -0.896723      0\n",
              "..        ...       ...    ...\n",
              "995  0.244054  0.944125      0\n",
              "996 -0.978655 -0.272373      0\n",
              "997 -0.136900 -0.810012      1\n",
              "998  0.670362 -0.767502      0\n",
              "999  0.281057  0.963824      0\n",
              "\n",
              "[1000 rows x 3 columns]"
            ],
            "text/html": [
              "\n",
              "  <div id=\"df-e11e8061-2333-4863-925d-9177c1393404\">\n",
              "    <div class=\"colab-df-container\">\n",
              "      <div>\n",
              "<style scoped>\n",
              "    .dataframe tbody tr th:only-of-type {\n",
              "        vertical-align: middle;\n",
              "    }\n",
              "\n",
              "    .dataframe tbody tr th {\n",
              "        vertical-align: top;\n",
              "    }\n",
              "\n",
              "    .dataframe thead th {\n",
              "        text-align: right;\n",
              "    }\n",
              "</style>\n",
              "<table border=\"1\" class=\"dataframe\">\n",
              "  <thead>\n",
              "    <tr style=\"text-align: right;\">\n",
              "      <th></th>\n",
              "      <th>x0</th>\n",
              "      <th>x1</th>\n",
              "      <th>label</th>\n",
              "    </tr>\n",
              "  </thead>\n",
              "  <tbody>\n",
              "    <tr>\n",
              "      <th>0</th>\n",
              "      <td>0.754246</td>\n",
              "      <td>0.231481</td>\n",
              "      <td>1</td>\n",
              "    </tr>\n",
              "    <tr>\n",
              "      <th>1</th>\n",
              "      <td>-0.756159</td>\n",
              "      <td>0.153259</td>\n",
              "      <td>1</td>\n",
              "    </tr>\n",
              "    <tr>\n",
              "      <th>2</th>\n",
              "      <td>-0.815392</td>\n",
              "      <td>0.173282</td>\n",
              "      <td>1</td>\n",
              "    </tr>\n",
              "    <tr>\n",
              "      <th>3</th>\n",
              "      <td>-0.393731</td>\n",
              "      <td>0.692883</td>\n",
              "      <td>1</td>\n",
              "    </tr>\n",
              "    <tr>\n",
              "      <th>4</th>\n",
              "      <td>0.442208</td>\n",
              "      <td>-0.896723</td>\n",
              "      <td>0</td>\n",
              "    </tr>\n",
              "    <tr>\n",
              "      <th>...</th>\n",
              "      <td>...</td>\n",
              "      <td>...</td>\n",
              "      <td>...</td>\n",
              "    </tr>\n",
              "    <tr>\n",
              "      <th>995</th>\n",
              "      <td>0.244054</td>\n",
              "      <td>0.944125</td>\n",
              "      <td>0</td>\n",
              "    </tr>\n",
              "    <tr>\n",
              "      <th>996</th>\n",
              "      <td>-0.978655</td>\n",
              "      <td>-0.272373</td>\n",
              "      <td>0</td>\n",
              "    </tr>\n",
              "    <tr>\n",
              "      <th>997</th>\n",
              "      <td>-0.136900</td>\n",
              "      <td>-0.810012</td>\n",
              "      <td>1</td>\n",
              "    </tr>\n",
              "    <tr>\n",
              "      <th>998</th>\n",
              "      <td>0.670362</td>\n",
              "      <td>-0.767502</td>\n",
              "      <td>0</td>\n",
              "    </tr>\n",
              "    <tr>\n",
              "      <th>999</th>\n",
              "      <td>0.281057</td>\n",
              "      <td>0.963824</td>\n",
              "      <td>0</td>\n",
              "    </tr>\n",
              "  </tbody>\n",
              "</table>\n",
              "<p>1000 rows × 3 columns</p>\n",
              "</div>\n",
              "      <button class=\"colab-df-convert\" onclick=\"convertToInteractive('df-e11e8061-2333-4863-925d-9177c1393404')\"\n",
              "              title=\"Convert this dataframe to an interactive table.\"\n",
              "              style=\"display:none;\">\n",
              "        \n",
              "  <svg xmlns=\"http://www.w3.org/2000/svg\" height=\"24px\"viewBox=\"0 0 24 24\"\n",
              "       width=\"24px\">\n",
              "    <path d=\"M0 0h24v24H0V0z\" fill=\"none\"/>\n",
              "    <path d=\"M18.56 5.44l.94 2.06.94-2.06 2.06-.94-2.06-.94-.94-2.06-.94 2.06-2.06.94zm-11 1L8.5 8.5l.94-2.06 2.06-.94-2.06-.94L8.5 2.5l-.94 2.06-2.06.94zm10 10l.94 2.06.94-2.06 2.06-.94-2.06-.94-.94-2.06-.94 2.06-2.06.94z\"/><path d=\"M17.41 7.96l-1.37-1.37c-.4-.4-.92-.59-1.43-.59-.52 0-1.04.2-1.43.59L10.3 9.45l-7.72 7.72c-.78.78-.78 2.05 0 2.83L4 21.41c.39.39.9.59 1.41.59.51 0 1.02-.2 1.41-.59l7.78-7.78 2.81-2.81c.8-.78.8-2.07 0-2.86zM5.41 20L4 18.59l7.72-7.72 1.47 1.35L5.41 20z\"/>\n",
              "  </svg>\n",
              "      </button>\n",
              "      \n",
              "  <style>\n",
              "    .colab-df-container {\n",
              "      display:flex;\n",
              "      flex-wrap:wrap;\n",
              "      gap: 12px;\n",
              "    }\n",
              "\n",
              "    .colab-df-convert {\n",
              "      background-color: #E8F0FE;\n",
              "      border: none;\n",
              "      border-radius: 50%;\n",
              "      cursor: pointer;\n",
              "      display: none;\n",
              "      fill: #1967D2;\n",
              "      height: 32px;\n",
              "      padding: 0 0 0 0;\n",
              "      width: 32px;\n",
              "    }\n",
              "\n",
              "    .colab-df-convert:hover {\n",
              "      background-color: #E2EBFA;\n",
              "      box-shadow: 0px 1px 2px rgba(60, 64, 67, 0.3), 0px 1px 3px 1px rgba(60, 64, 67, 0.15);\n",
              "      fill: #174EA6;\n",
              "    }\n",
              "\n",
              "    [theme=dark] .colab-df-convert {\n",
              "      background-color: #3B4455;\n",
              "      fill: #D2E3FC;\n",
              "    }\n",
              "\n",
              "    [theme=dark] .colab-df-convert:hover {\n",
              "      background-color: #434B5C;\n",
              "      box-shadow: 0px 1px 3px 1px rgba(0, 0, 0, 0.15);\n",
              "      filter: drop-shadow(0px 1px 2px rgba(0, 0, 0, 0.3));\n",
              "      fill: #FFFFFF;\n",
              "    }\n",
              "  </style>\n",
              "\n",
              "      <script>\n",
              "        const buttonEl =\n",
              "          document.querySelector('#df-e11e8061-2333-4863-925d-9177c1393404 button.colab-df-convert');\n",
              "        buttonEl.style.display =\n",
              "          google.colab.kernel.accessAllowed ? 'block' : 'none';\n",
              "\n",
              "        async function convertToInteractive(key) {\n",
              "          const element = document.querySelector('#df-e11e8061-2333-4863-925d-9177c1393404');\n",
              "          const dataTable =\n",
              "            await google.colab.kernel.invokeFunction('convertToInteractive',\n",
              "                                                     [key], {});\n",
              "          if (!dataTable) return;\n",
              "\n",
              "          const docLinkHtml = 'Like what you see? Visit the ' +\n",
              "            '<a target=\"_blank\" href=https://colab.research.google.com/notebooks/data_table.ipynb>data table notebook</a>'\n",
              "            + ' to learn more about interactive tables.';\n",
              "          element.innerHTML = '';\n",
              "          dataTable['output_type'] = 'display_data';\n",
              "          await google.colab.output.renderOutput(dataTable, element);\n",
              "          const docLink = document.createElement('div');\n",
              "          docLink.innerHTML = docLinkHtml;\n",
              "          element.appendChild(docLink);\n",
              "        }\n",
              "      </script>\n",
              "    </div>\n",
              "  </div>\n",
              "  "
            ]
          },
          "metadata": {},
          "execution_count": 26
        }
      ],
      "source": [
        "import pandas as pd\n",
        "\n",
        "circles = pd.DataFrame({\"x0\" : x[:,0],\"x1\":x[:,1],\"label\" : y})\n",
        "\n",
        "circles"
      ]
    },
    {
      "cell_type": "code",
      "execution_count": 27,
      "metadata": {
        "id": "bD-47RI2lPzQ",
        "outputId": "c8cb8ef0-9457-4834-ef73-5ea8e8409995",
        "colab": {
          "base_uri": "https://localhost:8080/",
          "height": 282
        }
      },
      "outputs": [
        {
          "output_type": "execute_result",
          "data": {
            "text/plain": [
              "<matplotlib.collections.PathCollection at 0x7f26e0dc3190>"
            ]
          },
          "metadata": {},
          "execution_count": 27
        },
        {
          "output_type": "display_data",
          "data": {
            "text/plain": [
              "<Figure size 432x288 with 1 Axes>"
            ],
            "image/png": "[encoded data removed]"
          },
          "metadata": {
            "needs_background": "light"
          }
        }
      ],
      "source": [
        "# Visualize with a plot\n",
        "import matplotlib.pyplot as plt\n",
        "\n",
        "plt.scatter(x[:,0],x[:,1],c=y,cmap=plt.cm.RdYlBu)\n"
      ]
    },
    {
      "cell_type": "markdown",
      "metadata": {
        "id": "wlrATEn7lPzT"
      },
      "source": [
        "#### Input and Output shapes"
      ]
    },
    {
      "cell_type": "code",
      "execution_count": 28,
      "metadata": {
        "id": "J0PmGHvVlPzU",
        "outputId": "d507801a-89dc-4771-b4c1-16a4b23d4b54",
        "colab": {
          "base_uri": "https://localhost:8080/"
        }
      },
      "outputs": [
        {
          "output_type": "execute_result",
          "data": {
            "text/plain": [
              "((1000, 2), (1000,))"
            ]
          },
          "metadata": {},
          "execution_count": 28
        }
      ],
      "source": [
        "x.shape , y.shape"
      ]
    },
    {
      "cell_type": "code",
      "execution_count": 29,
      "metadata": {
        "id": "QXV5rvLYlPzW",
        "outputId": "a44d09ae-db0c-4d44-ebd6-5e7dd7f7738c",
        "colab": {
          "base_uri": "https://localhost:8080/"
        }
      },
      "outputs": [
        {
          "output_type": "execute_result",
          "data": {
            "text/plain": [
              "(1000, 1000)"
            ]
          },
          "metadata": {},
          "execution_count": 29
        }
      ],
      "source": [
        "len(x),len(y)"
      ]
    },
    {
      "cell_type": "code",
      "execution_count": 30,
      "metadata": {
        "id": "uyOUEoFPlPzY",
        "outputId": "981fcb30-64a7-4e47-8667-0ff0bece2186",
        "colab": {
          "base_uri": "https://localhost:8080/"
        }
      },
      "outputs": [
        {
          "output_type": "execute_result",
          "data": {
            "text/plain": [
              "(array([0.75424625, 0.23148074]), 1)"
            ]
          },
          "metadata": {},
          "execution_count": 30
        }
      ],
      "source": [
        "x[0],y[0]"
      ]
    },
    {
      "cell_type": "markdown",
      "metadata": {
        "id": "_THdzpHjlPzZ"
      },
      "source": [
        "### Modelling"
      ]
    },
    {
      "cell_type": "code",
      "execution_count": 31,
      "metadata": {
        "id": "K38XSkBylPza"
      },
      "outputs": [],
      "source": [
        "import tensorflow as tf"
      ]
    },
    {
      "cell_type": "code",
      "execution_count": 32,
      "metadata": {
        "id": "o8sYxN3mlPzb",
        "outputId": "e106f326-304b-48a7-efd7-de5932f24c70",
        "colab": {
          "base_uri": "https://localhost:8080/"
        }
      },
      "outputs": [
        {
          "output_type": "stream",
          "name": "stdout",
          "text": [
            "Epoch 1/5\n",
            "32/32 [==============================] - 0s 1ms/step - loss: 2.8544 - accuracy: 0.4600\n",
            "Epoch 2/5\n",
            "32/32 [==============================] - 0s 1ms/step - loss: 0.7131 - accuracy: 0.5430\n",
            "Epoch 3/5\n",
            "32/32 [==============================] - 0s 1ms/step - loss: 0.6973 - accuracy: 0.5090\n",
            "Epoch 4/5\n",
            "32/32 [==============================] - 0s 2ms/step - loss: 0.6950 - accuracy: 0.5010\n",
            "Epoch 5/5\n",
            "32/32 [==============================] - 0s 2ms/step - loss: 0.6942 - accuracy: 0.4820\n"
          ]
        },
        {
          "output_type": "execute_result",
          "data": {
            "text/plain": [
              "<keras.callbacks.History at 0x7f26ddb70b10>"
            ]
          },
          "metadata": {},
          "execution_count": 32
        }
      ],
      "source": [
        "tf.random.set_seed(42)\n",
        "model_1  = tf.keras.Sequential([\n",
        "\n",
        "    tf.keras.layers.Dense(1)\n",
        "])\n",
        "\n",
        "\n",
        "model_1.compile(loss = tf.keras.losses.BinaryCrossentropy(),\n",
        "optimizer = tf.keras.optimizers.SGD(),\n",
        "metrics = [\"accuracy\"])\n",
        "\n",
        "\n",
        "model_1.fit(x,y,epochs=5)"
      ]
    },
    {
      "cell_type": "code",
      "execution_count": 33,
      "metadata": {
        "id": "XQg-Vk4ElPzc",
        "outputId": "5296c1ed-f26a-48b2-b5b8-ee94fe207eb8",
        "colab": {
          "base_uri": "https://localhost:8080/"
        }
      },
      "outputs": [
        {
          "output_type": "stream",
          "name": "stdout",
          "text": [
            "32/32 [==============================] - 0s 1ms/step - loss: 0.6935 - accuracy: 0.5000\n"
          ]
        },
        {
          "output_type": "execute_result",
          "data": {
            "text/plain": [
              "[0.6934831142425537, 0.5]"
            ]
          },
          "metadata": {},
          "execution_count": 33
        }
      ],
      "source": [
        "model_1.fit(x,y,epochs=200,verbose=0)\n",
        "model_1.evaluate(x,y)"
      ]
    },
    {
      "cell_type": "code",
      "execution_count": 34,
      "metadata": {
        "id": "psH0sqBilPze",
        "outputId": "424bf9c8-5a13-4d08-ecee-61cc442ef9f5",
        "colab": {
          "base_uri": "https://localhost:8080/"
        }
      },
      "outputs": [
        {
          "output_type": "execute_result",
          "data": {
            "text/plain": [
              "<keras.callbacks.History at 0x7f26e1cd74d0>"
            ]
          },
          "metadata": {},
          "execution_count": 34
        }
      ],
      "source": [
        "# Model 2\n",
        "\n",
        "model2 = tf.keras.Sequential([\n",
        "\n",
        "    tf.keras.layers.Dense(1),\n",
        "    tf.keras.layers.Dense(1)\n",
        "])\n",
        "\n",
        "\n",
        "model2.compile(loss = tf.keras.losses.BinaryCrossentropy(),\n",
        "optimizer = tf.keras.optimizers.SGD(),\n",
        "metrics =[\"accuracy\"] )\n",
        "\n",
        "\n",
        "model2.fit(x,y,epochs=100,verbose=0)"
      ]
    },
    {
      "cell_type": "code",
      "execution_count": 35,
      "metadata": {
        "id": "itbPXhkKlPzf",
        "outputId": "837a1f8f-0907-482e-f055-eae0cf4d494e",
        "colab": {
          "base_uri": "https://localhost:8080/"
        }
      },
      "outputs": [
        {
          "output_type": "stream",
          "name": "stdout",
          "text": [
            "32/32 [==============================] - 0s 1ms/step - loss: 0.6935 - accuracy: 0.5000\n"
          ]
        },
        {
          "output_type": "execute_result",
          "data": {
            "text/plain": [
              "[0.6934733390808105, 0.5]"
            ]
          },
          "metadata": {},
          "execution_count": 35
        }
      ],
      "source": [
        "model2.evaluate(x,y)"
      ]
    },
    {
      "cell_type": "code",
      "execution_count": 36,
      "metadata": {
        "id": "kRD4q_3SlPzg",
        "outputId": "dcbe0aed-0d2b-45c0-f7ae-7959c99f3e02",
        "colab": {
          "base_uri": "https://localhost:8080/"
        }
      },
      "outputs": [
        {
          "output_type": "execute_result",
          "data": {
            "text/plain": [
              "<keras.callbacks.History at 0x7f26e1bbdc10>"
            ]
          },
          "metadata": {},
          "execution_count": 36
        }
      ],
      "source": [
        "# Model 3\n",
        "\n",
        "model3 = tf.keras.Sequential([\n",
        "\n",
        "    tf.keras.layers.Dense(100),\n",
        "    tf.keras.layers.Dense(1),\n",
        "    tf.keras.layers.Dense(1)\n",
        "\n",
        "])\n",
        "\n",
        "\n",
        "model3.compile(loss = tf.keras.losses.BinaryCrossentropy(),\n",
        "optimizer = tf.keras.optimizers.Adam(),\n",
        "metrics = [\"accuracy\"])\n",
        "\n",
        "model3.fit(x,y,epochs=100,verbose=0)"
      ]
    },
    {
      "cell_type": "code",
      "execution_count": 37,
      "metadata": {
        "id": "XH0DT5O6lPzj",
        "outputId": "6d85bb36-fbcb-4bfe-f3a5-2d07e3b6e7b1",
        "colab": {
          "base_uri": "https://localhost:8080/"
        }
      },
      "outputs": [
        {
          "output_type": "stream",
          "name": "stdout",
          "text": [
            "32/32 [==============================] - 1s 5ms/step - loss: 0.6991 - accuracy: 0.5140\n"
          ]
        },
        {
          "output_type": "execute_result",
          "data": {
            "text/plain": [
              "[0.6991010308265686, 0.5139999985694885]"
            ]
          },
          "metadata": {},
          "execution_count": 37
        }
      ],
      "source": [
        "model3.evaluate(x,y)"
      ]
    },
    {
      "cell_type": "code",
      "execution_count": 38,
      "metadata": {
        "id": "cafvdNbOlPzk"
      },
      "outputs": [],
      "source": [
        "import numpy as np\n",
        "\n",
        "def plot_decision_boundary(model, X, y):\n",
        "  \"\"\"\n",
        "  Plots the decision boundary created by a model predicting on X.\n",
        "  This function has been adapted from two phenomenal resources:\n",
        "   1. CS231n - https://cs231n.github.io/neural-networks-case-study/\n",
        "   2. Made with ML basics - https://github.com/GokuMohandas/MadeWithML/blob/main/notebooks/08_Neural_Networks.ipynb\n",
        "  \"\"\"\n",
        "  # Define the axis boundaries of the plot and create a meshgrid\n",
        "  x_min, x_max = X[:, 0].min() - 0.1, X[:, 0].max() + 0.1\n",
        "  y_min, y_max = X[:, 1].min() - 0.1, X[:, 1].max() + 0.1\n",
        "  xx, yy = np.meshgrid(np.linspace(x_min, x_max, 100),\n",
        "                       np.linspace(y_min, y_max, 100))\n",
        "  \n",
        "  # Create X values (we're going to predict on all of these)\n",
        "  x_in = np.c_[xx.ravel(), yy.ravel()] # stack 2D arrays together: https://numpy.org/devdocs/reference/generated/numpy.c_.html\n",
        "  \n",
        "  # Make predictions using the trained model\n",
        "  y_pred = model.predict(x_in)\n",
        "\n",
        "  # Check for multi-class\n",
        "  if model.output_shape[-1] > 1: # checks the final dimension of the model's output shape, if this is > (greater than) 1, it's multi-class \n",
        "    print(\"doing multiclass classification...\")\n",
        "    # We have to reshape our predictions to get them ready for plotting\n",
        "    y_pred = np.argmax(y_pred, axis=1).reshape(xx.shape)\n",
        "  else:\n",
        "    print(\"doing binary classifcation...\")\n",
        "    y_pred = np.round(np.max(y_pred, axis=1)).reshape(xx.shape)\n",
        "  \n",
        "  # Plot decision boundary\n",
        "  plt.contourf(xx, yy, y_pred, cmap=plt.cm.RdYlBu, alpha=0.7)\n",
        "  plt.scatter(X[:, 0], X[:, 1], c=y, s=40, cmap=plt.cm.RdYlBu)\n",
        "  plt.xlim(xx.min(), xx.max())\n",
        "  plt.ylim(yy.min(), yy.max())\n"
      ]
    },
    {
      "cell_type": "code",
      "execution_count": 39,
      "metadata": {
        "id": "1f1_nsrWlPzm",
        "outputId": "2e5f9d67-ae6c-4d59-e77b-5fb54fbea528",
        "colab": {
          "base_uri": "https://localhost:8080/",
          "height": 300
        }
      },
      "outputs": [
        {
          "output_type": "stream",
          "name": "stdout",
          "text": [
            "313/313 [==============================] - 1s 3ms/step\n",
            "doing binary classifcation...\n"
          ]
        },
        {
          "output_type": "display_data",
          "data": {
            "text/plain": [
              "<Figure size 432x288 with 1 Axes>"
            ],
            "image/png": "[encoded data removed]"
          },
          "metadata": {
            "needs_background": "light"
          }
        }
      ],
      "source": [
        "plot_decision_boundary(model3, x, y)"
      ]
    },
    {
      "cell_type": "markdown",
      "metadata": {
        "id": "Mu8aTe0flPzn"
      },
      "source": [
        "#### The missing piece :  Non Linearity"
      ]
    },
    {
      "cell_type": "code",
      "execution_count": 40,
      "metadata": {
        "id": "fy9sRfm0lPzo",
        "outputId": "89ed5dcd-8ffe-438c-f980-4ed41a98dff0",
        "colab": {
          "base_uri": "https://localhost:8080/"
        }
      },
      "outputs": [
        {
          "output_type": "stream",
          "name": "stdout",
          "text": [
            "Epoch 1/100\n",
            "32/32 [==============================] - 1s 6ms/step - loss: 4.2979 - accuracy: 0.4670\n",
            "Epoch 2/100\n",
            "32/32 [==============================] - 0s 3ms/step - loss: 4.2317 - accuracy: 0.4400\n",
            "Epoch 3/100\n",
            "32/32 [==============================] - 0s 2ms/step - loss: 4.1610 - accuracy: 0.4310\n",
            "Epoch 4/100\n",
            "32/32 [==============================] - 0s 3ms/step - loss: 4.1183 - accuracy: 0.4270\n",
            "Epoch 5/100\n",
            "32/32 [==============================] - 0s 3ms/step - loss: 4.0784 - accuracy: 0.4240\n",
            "Epoch 6/100\n",
            "32/32 [==============================] - 0s 3ms/step - loss: 3.9620 - accuracy: 0.4170\n",
            "Epoch 7/100\n",
            "32/32 [==============================] - 0s 4ms/step - loss: 3.8984 - accuracy: 0.4110\n",
            "Epoch 8/100\n",
            "32/32 [==============================] - 0s 3ms/step - loss: 3.8595 - accuracy: 0.4110\n",
            "Epoch 9/100\n",
            "32/32 [==============================] - 0s 6ms/step - loss: 3.8580 - accuracy: 0.4110\n",
            "Epoch 10/100\n",
            "32/32 [==============================] - 0s 4ms/step - loss: 3.8575 - accuracy: 0.4110\n",
            "Epoch 11/100\n",
            "32/32 [==============================] - 0s 4ms/step - loss: 3.8570 - accuracy: 0.4110\n",
            "Epoch 12/100\n",
            "32/32 [==============================] - 0s 5ms/step - loss: 3.8566 - accuracy: 0.4110\n",
            "Epoch 13/100\n",
            "32/32 [==============================] - 0s 5ms/step - loss: 3.8563 - accuracy: 0.4110\n",
            "Epoch 14/100\n",
            "32/32 [==============================] - 0s 4ms/step - loss: 3.8559 - accuracy: 0.4120\n",
            "Epoch 15/100\n",
            "32/32 [==============================] - 0s 5ms/step - loss: 3.8556 - accuracy: 0.4120\n",
            "Epoch 16/100\n",
            "32/32 [==============================] - 0s 3ms/step - loss: 3.8553 - accuracy: 0.4120\n",
            "Epoch 17/100\n",
            "32/32 [==============================] - 0s 4ms/step - loss: 3.8313 - accuracy: 0.4100\n",
            "Epoch 18/100\n",
            "32/32 [==============================] - 0s 5ms/step - loss: 3.8039 - accuracy: 0.4120\n",
            "Epoch 19/100\n",
            "32/32 [==============================] - 0s 4ms/step - loss: 3.7935 - accuracy: 0.4120\n",
            "Epoch 20/100\n",
            "32/32 [==============================] - 0s 4ms/step - loss: 3.7913 - accuracy: 0.4120\n",
            "Epoch 21/100\n",
            "32/32 [==============================] - 0s 2ms/step - loss: 3.7838 - accuracy: 0.4120\n",
            "Epoch 22/100\n",
            "32/32 [==============================] - 0s 1ms/step - loss: 3.7780 - accuracy: 0.4120\n",
            "Epoch 23/100\n",
            "32/32 [==============================] - 0s 2ms/step - loss: 3.7771 - accuracy: 0.4120\n",
            "Epoch 24/100\n",
            "32/32 [==============================] - 0s 2ms/step - loss: 3.7763 - accuracy: 0.4100\n",
            "Epoch 25/100\n",
            "32/32 [==============================] - 0s 2ms/step - loss: 3.7757 - accuracy: 0.4100\n",
            "Epoch 26/100\n",
            "32/32 [==============================] - 0s 1ms/step - loss: 3.7751 - accuracy: 0.4100\n",
            "Epoch 27/100\n",
            "32/32 [==============================] - 0s 2ms/step - loss: 3.7745 - accuracy: 0.4100\n",
            "Epoch 28/100\n",
            "32/32 [==============================] - 0s 2ms/step - loss: 3.7740 - accuracy: 0.4100\n",
            "Epoch 29/100\n",
            "32/32 [==============================] - 0s 1ms/step - loss: 3.7734 - accuracy: 0.4100\n",
            "Epoch 30/100\n",
            "32/32 [==============================] - 0s 1ms/step - loss: 3.7730 - accuracy: 0.4100\n",
            "Epoch 31/100\n",
            "32/32 [==============================] - 0s 1ms/step - loss: 3.7725 - accuracy: 0.4100\n",
            "Epoch 32/100\n",
            "32/32 [==============================] - 0s 2ms/step - loss: 3.7720 - accuracy: 0.4100\n",
            "Epoch 33/100\n",
            "32/32 [==============================] - 0s 1ms/step - loss: 3.7715 - accuracy: 0.4100\n",
            "Epoch 34/100\n",
            "32/32 [==============================] - 0s 2ms/step - loss: 3.7711 - accuracy: 0.4090\n",
            "Epoch 35/100\n",
            "32/32 [==============================] - 0s 2ms/step - loss: 3.7706 - accuracy: 0.4090\n",
            "Epoch 36/100\n",
            "32/32 [==============================] - 0s 1ms/step - loss: 3.7702 - accuracy: 0.4090\n",
            "Epoch 37/100\n",
            "32/32 [==============================] - 0s 1ms/step - loss: 3.7698 - accuracy: 0.4090\n",
            "Epoch 38/100\n",
            "32/32 [==============================] - 0s 1ms/step - loss: 3.7629 - accuracy: 0.4090\n",
            "Epoch 39/100\n",
            "32/32 [==============================] - 0s 1ms/step - loss: 3.7596 - accuracy: 0.4100\n",
            "Epoch 40/100\n",
            "32/32 [==============================] - 0s 2ms/step - loss: 3.7588 - accuracy: 0.4100\n",
            "Epoch 41/100\n",
            "32/32 [==============================] - 0s 1ms/step - loss: 3.7582 - accuracy: 0.4100\n",
            "Epoch 42/100\n",
            "32/32 [==============================] - 0s 2ms/step - loss: 3.7576 - accuracy: 0.4100\n",
            "Epoch 43/100\n",
            "32/32 [==============================] - 0s 1ms/step - loss: 3.7571 - accuracy: 0.4100\n",
            "Epoch 44/100\n",
            "32/32 [==============================] - 0s 2ms/step - loss: 3.7565 - accuracy: 0.4100\n",
            "Epoch 45/100\n",
            "32/32 [==============================] - 0s 1ms/step - loss: 3.7561 - accuracy: 0.4100\n",
            "Epoch 46/100\n",
            "32/32 [==============================] - 0s 2ms/step - loss: 3.7556 - accuracy: 0.4100\n",
            "Epoch 47/100\n",
            "32/32 [==============================] - 0s 2ms/step - loss: 3.7551 - accuracy: 0.4110\n",
            "Epoch 48/100\n",
            "32/32 [==============================] - 0s 2ms/step - loss: 3.7547 - accuracy: 0.4110\n",
            "Epoch 49/100\n",
            "32/32 [==============================] - 0s 2ms/step - loss: 3.7542 - accuracy: 0.4110\n",
            "Epoch 50/100\n",
            "32/32 [==============================] - 0s 2ms/step - loss: 3.7538 - accuracy: 0.4110\n",
            "Epoch 51/100\n",
            "32/32 [==============================] - 0s 2ms/step - loss: 3.7473 - accuracy: 0.4110\n",
            "Epoch 52/100\n",
            "32/32 [==============================] - 0s 2ms/step - loss: 3.7291 - accuracy: 0.4120\n",
            "Epoch 53/100\n",
            "32/32 [==============================] - 0s 2ms/step - loss: 3.7282 - accuracy: 0.4120\n",
            "Epoch 54/100\n",
            "32/32 [==============================] - 0s 2ms/step - loss: 3.7277 - accuracy: 0.4130\n",
            "Epoch 55/100\n",
            "32/32 [==============================] - 0s 2ms/step - loss: 3.7273 - accuracy: 0.4130\n",
            "Epoch 56/100\n",
            "32/32 [==============================] - 0s 1ms/step - loss: 3.7268 - accuracy: 0.4130\n",
            "Epoch 57/100\n",
            "32/32 [==============================] - 0s 2ms/step - loss: 3.7264 - accuracy: 0.4130\n",
            "Epoch 58/100\n",
            "32/32 [==============================] - 0s 2ms/step - loss: 3.7259 - accuracy: 0.4130\n",
            "Epoch 59/100\n",
            "32/32 [==============================] - 0s 2ms/step - loss: 3.7255 - accuracy: 0.4130\n",
            "Epoch 60/100\n",
            "32/32 [==============================] - 0s 1ms/step - loss: 3.7250 - accuracy: 0.4130\n",
            "Epoch 61/100\n",
            "32/32 [==============================] - 0s 2ms/step - loss: 3.7246 - accuracy: 0.4130\n",
            "Epoch 62/100\n",
            "32/32 [==============================] - 0s 1ms/step - loss: 3.7242 - accuracy: 0.4130\n",
            "Epoch 63/100\n",
            "32/32 [==============================] - 0s 2ms/step - loss: 3.7238 - accuracy: 0.4130\n",
            "Epoch 64/100\n",
            "32/32 [==============================] - 0s 1ms/step - loss: 3.7234 - accuracy: 0.4130\n",
            "Epoch 65/100\n",
            "32/32 [==============================] - 0s 2ms/step - loss: 3.7230 - accuracy: 0.4140\n",
            "Epoch 66/100\n",
            "32/32 [==============================] - 0s 2ms/step - loss: 3.7226 - accuracy: 0.4140\n",
            "Epoch 67/100\n",
            "32/32 [==============================] - 0s 2ms/step - loss: 3.7222 - accuracy: 0.4140\n",
            "Epoch 68/100\n",
            "32/32 [==============================] - 0s 2ms/step - loss: 3.7218 - accuracy: 0.4160\n",
            "Epoch 69/100\n",
            "32/32 [==============================] - 0s 1ms/step - loss: 3.7215 - accuracy: 0.4160\n",
            "Epoch 70/100\n",
            "32/32 [==============================] - 0s 2ms/step - loss: 3.7211 - accuracy: 0.4160\n",
            "Epoch 71/100\n",
            "32/32 [==============================] - 0s 2ms/step - loss: 3.7207 - accuracy: 0.4160\n",
            "Epoch 72/100\n",
            "32/32 [==============================] - 0s 1ms/step - loss: 3.7203 - accuracy: 0.4160\n",
            "Epoch 73/100\n",
            "32/32 [==============================] - 0s 2ms/step - loss: 3.7200 - accuracy: 0.4180\n",
            "Epoch 74/100\n",
            "32/32 [==============================] - 0s 1ms/step - loss: 3.7196 - accuracy: 0.4180\n",
            "Epoch 75/100\n",
            "32/32 [==============================] - 0s 2ms/step - loss: 3.7192 - accuracy: 0.4180\n",
            "Epoch 76/100\n",
            "32/32 [==============================] - 0s 2ms/step - loss: 3.7189 - accuracy: 0.4180\n",
            "Epoch 77/100\n",
            "32/32 [==============================] - 0s 2ms/step - loss: 3.7185 - accuracy: 0.4180\n",
            "Epoch 78/100\n",
            "32/32 [==============================] - 0s 2ms/step - loss: 3.7181 - accuracy: 0.4180\n",
            "Epoch 79/100\n",
            "32/32 [==============================] - 0s 2ms/step - loss: 3.7177 - accuracy: 0.4180\n",
            "Epoch 80/100\n",
            "32/32 [==============================] - 0s 1ms/step - loss: 3.7173 - accuracy: 0.4180\n",
            "Epoch 81/100\n",
            "32/32 [==============================] - 0s 2ms/step - loss: 3.7169 - accuracy: 0.4180\n",
            "Epoch 82/100\n",
            "32/32 [==============================] - 0s 2ms/step - loss: 3.7166 - accuracy: 0.4180\n",
            "Epoch 83/100\n",
            "32/32 [==============================] - 0s 2ms/step - loss: 3.7162 - accuracy: 0.4180\n",
            "Epoch 84/100\n",
            "32/32 [==============================] - 0s 2ms/step - loss: 3.7158 - accuracy: 0.4180\n",
            "Epoch 85/100\n",
            "32/32 [==============================] - 0s 2ms/step - loss: 3.7155 - accuracy: 0.4180\n",
            "Epoch 86/100\n",
            "32/32 [==============================] - 0s 2ms/step - loss: 3.7151 - accuracy: 0.4180\n",
            "Epoch 87/100\n",
            "32/32 [==============================] - 0s 2ms/step - loss: 3.7148 - accuracy: 0.4180\n",
            "Epoch 88/100\n",
            "32/32 [==============================] - 0s 2ms/step - loss: 3.6964 - accuracy: 0.4180\n",
            "Epoch 89/100\n",
            "32/32 [==============================] - 0s 1ms/step - loss: 3.6876 - accuracy: 0.4190\n",
            "Epoch 90/100\n",
            "32/32 [==============================] - 0s 1ms/step - loss: 3.6872 - accuracy: 0.4200\n",
            "Epoch 91/100\n",
            "32/32 [==============================] - 0s 1ms/step - loss: 3.6868 - accuracy: 0.4200\n",
            "Epoch 92/100\n",
            "32/32 [==============================] - 0s 2ms/step - loss: 3.6864 - accuracy: 0.4200\n",
            "Epoch 93/100\n",
            "32/32 [==============================] - 0s 2ms/step - loss: 3.6860 - accuracy: 0.4210\n",
            "Epoch 94/100\n",
            "32/32 [==============================] - 0s 1ms/step - loss: 3.6856 - accuracy: 0.4210\n",
            "Epoch 95/100\n",
            "32/32 [==============================] - 0s 1ms/step - loss: 3.6852 - accuracy: 0.4200\n",
            "Epoch 96/100\n",
            "32/32 [==============================] - 0s 2ms/step - loss: 3.6848 - accuracy: 0.4200\n",
            "Epoch 97/100\n",
            "32/32 [==============================] - 0s 2ms/step - loss: 3.6844 - accuracy: 0.4220\n",
            "Epoch 98/100\n",
            "32/32 [==============================] - 0s 1ms/step - loss: 3.6841 - accuracy: 0.4220\n",
            "Epoch 99/100\n",
            "32/32 [==============================] - 0s 2ms/step - loss: 3.6837 - accuracy: 0.4230\n",
            "Epoch 100/100\n",
            "32/32 [==============================] - 0s 2ms/step - loss: 3.6833 - accuracy: 0.4220\n"
          ]
        }
      ],
      "source": [
        "tf.random.set_seed(42)\n",
        "\n",
        "model_4 = tf.keras.Sequential([\n",
        "\n",
        "    tf.keras.layers.Dense(1,activation =\"linear\")\n",
        "])\n",
        "\n",
        "model_4.compile(loss = \"binary_crossentropy\",\n",
        "optimizer = tf.keras.optimizers.Adam(learning_rate=0.001),\n",
        "metrics= [\"accuracy\"])\n",
        "\n",
        "\n",
        "history = model_4.fit(x,y,epochs=100)"
      ]
    },
    {
      "cell_type": "code",
      "execution_count": 41,
      "metadata": {
        "id": "LtlOaWfBlPzp",
        "outputId": "449513f3-e8a0-48f8-88f1-37f5f84202c5",
        "colab": {
          "base_uri": "https://localhost:8080/",
          "height": 0
        }
      },
      "outputs": [
        {
          "output_type": "stream",
          "name": "stdout",
          "text": [
            "313/313 [==============================] - 0s 1ms/step\n",
            "doing binary classifcation...\n"
          ]
        },
        {
          "output_type": "display_data",
          "data": {
            "text/plain": [
              "<Figure size 432x288 with 1 Axes>"
            ],
            "image/png": "[encoded data removed]"
          },
          "metadata": {
            "needs_background": "light"
          }
        }
      ],
      "source": [
        "plot_decision_boundary(model_4,x,y)"
      ]
    },
    {
      "cell_type": "code",
      "execution_count": 42,
      "metadata": {
        "id": "k-rMJpDclPzq",
        "outputId": "8c466ded-bcc6-4073-b4d3-721925d45fed",
        "colab": {
          "base_uri": "https://localhost:8080/"
        }
      },
      "outputs": [
        {
          "output_type": "stream",
          "name": "stdout",
          "text": [
            "Epoch 1/100\n",
            "32/32 [==============================] - 0s 1ms/step - loss: 4.2979 - accuracy: 0.4670\n",
            "Epoch 2/100\n",
            "32/32 [==============================] - 0s 2ms/step - loss: 4.2317 - accuracy: 0.4400\n",
            "Epoch 3/100\n",
            "32/32 [==============================] - 0s 2ms/step - loss: 4.1610 - accuracy: 0.4310\n",
            "Epoch 4/100\n",
            "32/32 [==============================] - 0s 2ms/step - loss: 4.1183 - accuracy: 0.4270\n",
            "Epoch 5/100\n",
            "32/32 [==============================] - 0s 2ms/step - loss: 4.0784 - accuracy: 0.4240\n",
            "Epoch 6/100\n",
            "32/32 [==============================] - 0s 2ms/step - loss: 3.9620 - accuracy: 0.4170\n",
            "Epoch 7/100\n",
            "32/32 [==============================] - 0s 2ms/step - loss: 3.8984 - accuracy: 0.4110\n",
            "Epoch 8/100\n",
            "32/32 [==============================] - 0s 2ms/step - loss: 3.8595 - accuracy: 0.4110\n",
            "Epoch 9/100\n",
            "32/32 [==============================] - 0s 2ms/step - loss: 3.8580 - accuracy: 0.4110\n",
            "Epoch 10/100\n",
            "32/32 [==============================] - 0s 2ms/step - loss: 3.8575 - accuracy: 0.4110\n",
            "Epoch 11/100\n",
            "32/32 [==============================] - 0s 2ms/step - loss: 3.8570 - accuracy: 0.4110\n",
            "Epoch 12/100\n",
            "32/32 [==============================] - 0s 2ms/step - loss: 3.8566 - accuracy: 0.4110\n",
            "Epoch 13/100\n",
            "32/32 [==============================] - 0s 2ms/step - loss: 3.8563 - accuracy: 0.4110\n",
            "Epoch 14/100\n",
            "32/32 [==============================] - 0s 2ms/step - loss: 3.8559 - accuracy: 0.4120\n",
            "Epoch 15/100\n",
            "32/32 [==============================] - 0s 1ms/step - loss: 3.8556 - accuracy: 0.4120\n",
            "Epoch 16/100\n",
            "32/32 [==============================] - 0s 2ms/step - loss: 3.8553 - accuracy: 0.4120\n",
            "Epoch 17/100\n",
            "32/32 [==============================] - 0s 2ms/step - loss: 3.8313 - accuracy: 0.4100\n",
            "Epoch 18/100\n",
            "32/32 [==============================] - 0s 1ms/step - loss: 3.8039 - accuracy: 0.4120\n",
            "Epoch 19/100\n",
            "32/32 [==============================] - 0s 2ms/step - loss: 3.7935 - accuracy: 0.4120\n",
            "Epoch 20/100\n",
            "32/32 [==============================] - 0s 1ms/step - loss: 3.7913 - accuracy: 0.4120\n",
            "Epoch 21/100\n",
            "32/32 [==============================] - 0s 2ms/step - loss: 3.7838 - accuracy: 0.4120\n",
            "Epoch 22/100\n",
            "32/32 [==============================] - 0s 2ms/step - loss: 3.7780 - accuracy: 0.4120\n",
            "Epoch 23/100\n",
            "32/32 [==============================] - 0s 1ms/step - loss: 3.7771 - accuracy: 0.4120\n",
            "Epoch 24/100\n",
            "32/32 [==============================] - 0s 2ms/step - loss: 3.7763 - accuracy: 0.4100\n",
            "Epoch 25/100\n",
            "32/32 [==============================] - 0s 1ms/step - loss: 3.7757 - accuracy: 0.4100\n",
            "Epoch 26/100\n",
            "32/32 [==============================] - 0s 2ms/step - loss: 3.7751 - accuracy: 0.4100\n",
            "Epoch 27/100\n",
            "32/32 [==============================] - 0s 1ms/step - loss: 3.7745 - accuracy: 0.4100\n",
            "Epoch 28/100\n",
            "32/32 [==============================] - 0s 1ms/step - loss: 3.7740 - accuracy: 0.4100\n",
            "Epoch 29/100\n",
            "32/32 [==============================] - 0s 1ms/step - loss: 3.7734 - accuracy: 0.4100\n",
            "Epoch 30/100\n",
            "32/32 [==============================] - 0s 1ms/step - loss: 3.7730 - accuracy: 0.4100\n",
            "Epoch 31/100\n",
            "32/32 [==============================] - 0s 1ms/step - loss: 3.7725 - accuracy: 0.4100\n",
            "Epoch 32/100\n",
            "32/32 [==============================] - 0s 2ms/step - loss: 3.7720 - accuracy: 0.4100\n",
            "Epoch 33/100\n",
            "32/32 [==============================] - 0s 1ms/step - loss: 3.7715 - accuracy: 0.4100\n",
            "Epoch 34/100\n",
            "32/32 [==============================] - 0s 2ms/step - loss: 3.7711 - accuracy: 0.4090\n",
            "Epoch 35/100\n",
            "32/32 [==============================] - 0s 1ms/step - loss: 3.7706 - accuracy: 0.4090\n",
            "Epoch 36/100\n",
            "32/32 [==============================] - 0s 2ms/step - loss: 3.7702 - accuracy: 0.4090\n",
            "Epoch 37/100\n",
            "32/32 [==============================] - 0s 2ms/step - loss: 3.7698 - accuracy: 0.4090\n",
            "Epoch 38/100\n",
            "32/32 [==============================] - 0s 2ms/step - loss: 3.7629 - accuracy: 0.4090\n",
            "Epoch 39/100\n",
            "32/32 [==============================] - 0s 2ms/step - loss: 3.7596 - accuracy: 0.4100\n",
            "Epoch 40/100\n",
            "32/32 [==============================] - 0s 2ms/step - loss: 3.7588 - accuracy: 0.4100\n",
            "Epoch 41/100\n",
            "32/32 [==============================] - 0s 2ms/step - loss: 3.7582 - accuracy: 0.4100\n",
            "Epoch 42/100\n",
            "32/32 [==============================] - 0s 2ms/step - loss: 3.7576 - accuracy: 0.4100\n",
            "Epoch 43/100\n",
            "32/32 [==============================] - 0s 2ms/step - loss: 3.7571 - accuracy: 0.4100\n",
            "Epoch 44/100\n",
            "32/32 [==============================] - 0s 1ms/step - loss: 3.7565 - accuracy: 0.4100\n",
            "Epoch 45/100\n",
            "32/32 [==============================] - 0s 1ms/step - loss: 3.7561 - accuracy: 0.4100\n",
            "Epoch 46/100\n",
            "32/32 [==============================] - 0s 2ms/step - loss: 3.7556 - accuracy: 0.4100\n",
            "Epoch 47/100\n",
            "32/32 [==============================] - 0s 2ms/step - loss: 3.7551 - accuracy: 0.4110\n",
            "Epoch 48/100\n",
            "32/32 [==============================] - 0s 2ms/step - loss: 3.7547 - accuracy: 0.4110\n",
            "Epoch 49/100\n",
            "32/32 [==============================] - 0s 2ms/step - loss: 3.7542 - accuracy: 0.4110\n",
            "Epoch 50/100\n",
            "32/32 [==============================] - 0s 2ms/step - loss: 3.7538 - accuracy: 0.4110\n",
            "Epoch 51/100\n",
            "32/32 [==============================] - 0s 1ms/step - loss: 3.7473 - accuracy: 0.4110\n",
            "Epoch 52/100\n",
            "32/32 [==============================] - 0s 2ms/step - loss: 3.7291 - accuracy: 0.4120\n",
            "Epoch 53/100\n",
            "32/32 [==============================] - 0s 2ms/step - loss: 3.7282 - accuracy: 0.4120\n",
            "Epoch 54/100\n",
            "32/32 [==============================] - 0s 2ms/step - loss: 3.7277 - accuracy: 0.4130\n",
            "Epoch 55/100\n",
            "32/32 [==============================] - 0s 2ms/step - loss: 3.7273 - accuracy: 0.4130\n",
            "Epoch 56/100\n",
            "32/32 [==============================] - 0s 2ms/step - loss: 3.7268 - accuracy: 0.4130\n",
            "Epoch 57/100\n",
            "32/32 [==============================] - 0s 2ms/step - loss: 3.7264 - accuracy: 0.4130\n",
            "Epoch 58/100\n",
            "32/32 [==============================] - 0s 1ms/step - loss: 3.7259 - accuracy: 0.4130\n",
            "Epoch 59/100\n",
            "32/32 [==============================] - 0s 2ms/step - loss: 3.7255 - accuracy: 0.4130\n",
            "Epoch 60/100\n",
            "32/32 [==============================] - 0s 1ms/step - loss: 3.7250 - accuracy: 0.4130\n",
            "Epoch 61/100\n",
            "32/32 [==============================] - 0s 1ms/step - loss: 3.7246 - accuracy: 0.4130\n",
            "Epoch 62/100\n",
            "32/32 [==============================] - 0s 2ms/step - loss: 3.7242 - accuracy: 0.4130\n",
            "Epoch 63/100\n",
            "32/32 [==============================] - 0s 1ms/step - loss: 3.7238 - accuracy: 0.4130\n",
            "Epoch 64/100\n",
            "32/32 [==============================] - 0s 1ms/step - loss: 3.7234 - accuracy: 0.4130\n",
            "Epoch 65/100\n",
            "32/32 [==============================] - 0s 2ms/step - loss: 3.7230 - accuracy: 0.4140\n",
            "Epoch 66/100\n",
            "32/32 [==============================] - 0s 1ms/step - loss: 3.7226 - accuracy: 0.4140\n",
            "Epoch 67/100\n",
            "32/32 [==============================] - 0s 2ms/step - loss: 3.7222 - accuracy: 0.4140\n",
            "Epoch 68/100\n",
            "32/32 [==============================] - 0s 2ms/step - loss: 3.7218 - accuracy: 0.4160\n",
            "Epoch 69/100\n",
            "32/32 [==============================] - 0s 1ms/step - loss: 3.7215 - accuracy: 0.4160\n",
            "Epoch 70/100\n",
            "32/32 [==============================] - 0s 2ms/step - loss: 3.7211 - accuracy: 0.4160\n",
            "Epoch 71/100\n",
            "32/32 [==============================] - 0s 2ms/step - loss: 3.7207 - accuracy: 0.4160\n",
            "Epoch 72/100\n",
            "32/32 [==============================] - 0s 1ms/step - loss: 3.7203 - accuracy: 0.4160\n",
            "Epoch 73/100\n",
            "32/32 [==============================] - 0s 2ms/step - loss: 3.7200 - accuracy: 0.4180\n",
            "Epoch 74/100\n",
            "32/32 [==============================] - 0s 2ms/step - loss: 3.7196 - accuracy: 0.4180\n",
            "Epoch 75/100\n",
            "32/32 [==============================] - 0s 1ms/step - loss: 3.7192 - accuracy: 0.4180\n",
            "Epoch 76/100\n",
            "32/32 [==============================] - 0s 2ms/step - loss: 3.7189 - accuracy: 0.4180\n",
            "Epoch 77/100\n",
            "32/32 [==============================] - 0s 2ms/step - loss: 3.7185 - accuracy: 0.4180\n",
            "Epoch 78/100\n",
            "32/32 [==============================] - 0s 2ms/step - loss: 3.7181 - accuracy: 0.4180\n",
            "Epoch 79/100\n",
            "32/32 [==============================] - 0s 2ms/step - loss: 3.7177 - accuracy: 0.4180\n",
            "Epoch 80/100\n",
            "32/32 [==============================] - 0s 2ms/step - loss: 3.7173 - accuracy: 0.4180\n",
            "Epoch 81/100\n",
            "32/32 [==============================] - 0s 2ms/step - loss: 3.7169 - accuracy: 0.4180\n",
            "Epoch 82/100\n",
            "32/32 [==============================] - 0s 2ms/step - loss: 3.7166 - accuracy: 0.4180\n",
            "Epoch 83/100\n",
            "32/32 [==============================] - 0s 2ms/step - loss: 3.7162 - accuracy: 0.4180\n",
            "Epoch 84/100\n",
            "32/32 [==============================] - 0s 1ms/step - loss: 3.7158 - accuracy: 0.4180\n",
            "Epoch 85/100\n",
            "32/32 [==============================] - 0s 1ms/step - loss: 3.7155 - accuracy: 0.4180\n",
            "Epoch 86/100\n",
            "32/32 [==============================] - 0s 2ms/step - loss: 3.7151 - accuracy: 0.4180\n",
            "Epoch 87/100\n",
            "32/32 [==============================] - 0s 2ms/step - loss: 3.7148 - accuracy: 0.4180\n",
            "Epoch 88/100\n",
            "32/32 [==============================] - 0s 1ms/step - loss: 3.6964 - accuracy: 0.4180\n",
            "Epoch 89/100\n",
            "32/32 [==============================] - 0s 1ms/step - loss: 3.6876 - accuracy: 0.4190\n",
            "Epoch 90/100\n",
            "32/32 [==============================] - 0s 1ms/step - loss: 3.6872 - accuracy: 0.4200\n",
            "Epoch 91/100\n",
            "32/32 [==============================] - 0s 2ms/step - loss: 3.6868 - accuracy: 0.4200\n",
            "Epoch 92/100\n",
            "32/32 [==============================] - 0s 2ms/step - loss: 3.6864 - accuracy: 0.4200\n",
            "Epoch 93/100\n",
            "32/32 [==============================] - 0s 2ms/step - loss: 3.6860 - accuracy: 0.4210\n",
            "Epoch 94/100\n",
            "32/32 [==============================] - 0s 2ms/step - loss: 3.6856 - accuracy: 0.4210\n",
            "Epoch 95/100\n",
            "32/32 [==============================] - 0s 2ms/step - loss: 3.6852 - accuracy: 0.4200\n",
            "Epoch 96/100\n",
            "32/32 [==============================] - 0s 2ms/step - loss: 3.6848 - accuracy: 0.4200\n",
            "Epoch 97/100\n",
            "32/32 [==============================] - 0s 2ms/step - loss: 3.6844 - accuracy: 0.4220\n",
            "Epoch 98/100\n",
            "32/32 [==============================] - 0s 1ms/step - loss: 3.6841 - accuracy: 0.4220\n",
            "Epoch 99/100\n",
            "32/32 [==============================] - 0s 1ms/step - loss: 3.6837 - accuracy: 0.4230\n",
            "Epoch 100/100\n",
            "32/32 [==============================] - 0s 2ms/step - loss: 3.6833 - accuracy: 0.4220\n"
          ]
        }
      ],
      "source": [
        "tf.random.set_seed(42)\n",
        "\n",
        "\n",
        "model_5 = tf.keras.Sequential([\n",
        "\n",
        "    tf.keras.layers.Dense(1,activation=\"relu\")\n",
        "])\n",
        "\n",
        "\n",
        "model_5.compile(loss = \"binary_crossentropy\",\n",
        "optimizer = tf.keras.optimizers.Adam(learning_rate=0.001),\n",
        "metrics =[\"accuracy\"])\n",
        "\n",
        "\n",
        "history = model_5.fit(x,y,epochs=100)"
      ]
    },
    {
      "cell_type": "code",
      "execution_count": 43,
      "metadata": {
        "id": "DgzGxcwLlPzr",
        "outputId": "a256eeeb-1a5c-4e21-e003-97c82dcde49e",
        "colab": {
          "base_uri": "https://localhost:8080/",
          "height": 0
        }
      },
      "outputs": [
        {
          "output_type": "stream",
          "name": "stdout",
          "text": [
            "313/313 [==============================] - 0s 1ms/step\n",
            "doing binary classifcation...\n"
          ]
        },
        {
          "output_type": "display_data",
          "data": {
            "text/plain": [
              "<Figure size 432x288 with 1 Axes>"
            ],
            "image/png": "[encoded data removed]"
          },
          "metadata": {
            "needs_background": "light"
          }
        }
      ],
      "source": [
        "plot_decision_boundary(model_5,x,y)"
      ]
    },
    {
      "cell_type": "code",
      "execution_count": 44,
      "metadata": {
        "id": "lg89OlMOlPzs"
      },
      "outputs": [],
      "source": [
        "tf.random.set_seed(42)\n",
        "\n",
        "\n",
        "model_6 = tf.keras.Sequential([\n",
        "\n",
        "    tf.keras.layers.Dense(4,activation=\"relu\"),\n",
        "    tf.keras.layers.Dense(4,activation=\"relu\"),\n",
        "    tf.keras.layers.Dense(1) # Output Layer\n",
        "])\n",
        "\n",
        "\n",
        "model_6.compile(loss = \"binary_crossentropy\",\n",
        "optimizer = tf.keras.optimizers.Adam(learning_rate=0.001),\n",
        "metrics = [\"accuracy\"])\n",
        "\n",
        "\n",
        "history = model_6.fit(x,y,epochs=250,verbose=0)"
      ]
    },
    {
      "cell_type": "code",
      "execution_count": 45,
      "metadata": {
        "id": "5MHChw22lPzs",
        "outputId": "15b55291-ff25-413e-e465-c228ca09744a",
        "colab": {
          "base_uri": "https://localhost:8080/"
        }
      },
      "outputs": [
        {
          "output_type": "stream",
          "name": "stdout",
          "text": [
            "32/32 [==============================] - 0s 2ms/step - loss: 7.7125 - accuracy: 0.5000\n"
          ]
        },
        {
          "output_type": "execute_result",
          "data": {
            "text/plain": [
              "[7.712474346160889, 0.5]"
            ]
          },
          "metadata": {},
          "execution_count": 45
        }
      ],
      "source": [
        "model_6.evaluate(x,y)"
      ]
    },
    {
      "cell_type": "code",
      "execution_count": 46,
      "metadata": {
        "id": "FUYaIskJlPzt",
        "outputId": "bb8dbae9-dce4-43c9-e540-259720caacd4",
        "colab": {
          "base_uri": "https://localhost:8080/",
          "height": 0
        }
      },
      "outputs": [
        {
          "output_type": "stream",
          "name": "stdout",
          "text": [
            "313/313 [==============================] - 1s 3ms/step\n",
            "doing binary classifcation...\n"
          ]
        },
        {
          "output_type": "display_data",
          "data": {
            "text/plain": [
              "<Figure size 432x288 with 1 Axes>"
            ],
            "image/png": "[encoded data removed]"
          },
          "metadata": {
            "needs_background": "light"
          }
        }
      ],
      "source": [
        "plot_decision_boundary(model_6,x,y)"
      ]
    },
    {
      "cell_type": "code",
      "execution_count": 47,
      "metadata": {
        "id": "8XS0Hy4mlPzt",
        "outputId": "b6b4422c-b5f6-4cca-f3b9-d8a1a098d729",
        "colab": {
          "base_uri": "https://localhost:8080/"
        }
      },
      "outputs": [
        {
          "output_type": "stream",
          "name": "stdout",
          "text": [
            "Epoch 1/250\n",
            "32/32 [==============================] - 1s 2ms/step - loss: 0.6891 - accuracy: 0.5020\n",
            "Epoch 2/250\n",
            "32/32 [==============================] - 0s 2ms/step - loss: 0.6848 - accuracy: 0.5170\n",
            "Epoch 3/250\n",
            "32/32 [==============================] - 0s 2ms/step - loss: 0.6824 - accuracy: 0.5160\n",
            "Epoch 4/250\n",
            "32/32 [==============================] - 0s 2ms/step - loss: 0.6813 - accuracy: 0.5300\n",
            "Epoch 5/250\n",
            "32/32 [==============================] - 0s 2ms/step - loss: 0.6802 - accuracy: 0.5390\n",
            "Epoch 6/250\n",
            "32/32 [==============================] - 0s 2ms/step - loss: 0.6794 - accuracy: 0.5380\n",
            "Epoch 7/250\n",
            "32/32 [==============================] - 0s 2ms/step - loss: 0.6785 - accuracy: 0.5500\n",
            "Epoch 8/250\n",
            "32/32 [==============================] - 0s 2ms/step - loss: 0.6778 - accuracy: 0.5480\n",
            "Epoch 9/250\n",
            "32/32 [==============================] - 0s 2ms/step - loss: 0.6772 - accuracy: 0.5530\n",
            "Epoch 10/250\n",
            "32/32 [==============================] - 0s 2ms/step - loss: 0.6766 - accuracy: 0.5510\n",
            "Epoch 11/250\n",
            "32/32 [==============================] - 0s 2ms/step - loss: 0.6760 - accuracy: 0.5500\n",
            "Epoch 12/250\n",
            "32/32 [==============================] - 0s 2ms/step - loss: 0.6754 - accuracy: 0.5550\n",
            "Epoch 13/250\n",
            "32/32 [==============================] - 0s 2ms/step - loss: 0.6747 - accuracy: 0.5560\n",
            "Epoch 14/250\n",
            "32/32 [==============================] - 0s 2ms/step - loss: 0.6741 - accuracy: 0.5540\n",
            "Epoch 15/250\n",
            "32/32 [==============================] - 0s 2ms/step - loss: 0.6734 - accuracy: 0.5580\n",
            "Epoch 16/250\n",
            "32/32 [==============================] - 0s 2ms/step - loss: 0.6727 - accuracy: 0.5550\n",
            "Epoch 17/250\n",
            "32/32 [==============================] - 0s 2ms/step - loss: 0.6722 - accuracy: 0.5550\n",
            "Epoch 18/250\n",
            "32/32 [==============================] - 0s 2ms/step - loss: 0.6716 - accuracy: 0.5550\n",
            "Epoch 19/250\n",
            "32/32 [==============================] - 0s 2ms/step - loss: 0.6710 - accuracy: 0.5590\n",
            "Epoch 20/250\n",
            "32/32 [==============================] - 0s 2ms/step - loss: 0.6702 - accuracy: 0.5600\n",
            "Epoch 21/250\n",
            "32/32 [==============================] - 0s 2ms/step - loss: 0.6696 - accuracy: 0.5640\n",
            "Epoch 22/250\n",
            "32/32 [==============================] - 0s 2ms/step - loss: 0.6688 - accuracy: 0.5600\n",
            "Epoch 23/250\n",
            "32/32 [==============================] - 0s 2ms/step - loss: 0.6682 - accuracy: 0.5700\n",
            "Epoch 24/250\n",
            "32/32 [==============================] - 0s 2ms/step - loss: 0.6679 - accuracy: 0.5570\n",
            "Epoch 25/250\n",
            "32/32 [==============================] - 0s 2ms/step - loss: 0.6671 - accuracy: 0.5670\n",
            "Epoch 26/250\n",
            "32/32 [==============================] - 0s 2ms/step - loss: 0.6662 - accuracy: 0.5750\n",
            "Epoch 27/250\n",
            "32/32 [==============================] - 0s 2ms/step - loss: 0.6657 - accuracy: 0.5810\n",
            "Epoch 28/250\n",
            "32/32 [==============================] - 0s 2ms/step - loss: 0.6645 - accuracy: 0.5700\n",
            "Epoch 29/250\n",
            "32/32 [==============================] - 0s 2ms/step - loss: 0.6642 - accuracy: 0.5700\n",
            "Epoch 30/250\n",
            "32/32 [==============================] - 0s 2ms/step - loss: 0.6634 - accuracy: 0.5790\n",
            "Epoch 31/250\n",
            "32/32 [==============================] - 0s 2ms/step - loss: 0.6627 - accuracy: 0.5760\n",
            "Epoch 32/250\n",
            "32/32 [==============================] - 0s 2ms/step - loss: 0.6619 - accuracy: 0.5760\n",
            "Epoch 33/250\n",
            "32/32 [==============================] - 0s 2ms/step - loss: 0.6610 - accuracy: 0.5760\n",
            "Epoch 34/250\n",
            "32/32 [==============================] - 0s 2ms/step - loss: 0.6606 - accuracy: 0.5760\n",
            "Epoch 35/250\n",
            "32/32 [==============================] - 0s 2ms/step - loss: 0.6597 - accuracy: 0.5790\n",
            "Epoch 36/250\n",
            "32/32 [==============================] - 0s 2ms/step - loss: 0.6586 - accuracy: 0.5780\n",
            "Epoch 37/250\n",
            "32/32 [==============================] - 0s 2ms/step - loss: 0.6580 - accuracy: 0.5780\n",
            "Epoch 38/250\n",
            "32/32 [==============================] - 0s 2ms/step - loss: 0.6573 - accuracy: 0.5790\n",
            "Epoch 39/250\n",
            "32/32 [==============================] - 0s 2ms/step - loss: 0.6564 - accuracy: 0.5790\n",
            "Epoch 40/250\n",
            "32/32 [==============================] - 0s 2ms/step - loss: 0.6556 - accuracy: 0.5760\n",
            "Epoch 41/250\n",
            "32/32 [==============================] - 0s 2ms/step - loss: 0.6548 - accuracy: 0.5780\n",
            "Epoch 42/250\n",
            "32/32 [==============================] - 0s 2ms/step - loss: 0.6540 - accuracy: 0.5750\n",
            "Epoch 43/250\n",
            "32/32 [==============================] - 0s 2ms/step - loss: 0.6530 - accuracy: 0.5780\n",
            "Epoch 44/250\n",
            "32/32 [==============================] - 0s 3ms/step - loss: 0.6521 - accuracy: 0.5810\n",
            "Epoch 45/250\n",
            "32/32 [==============================] - 0s 2ms/step - loss: 0.6496 - accuracy: 0.5810\n",
            "Epoch 46/250\n",
            "32/32 [==============================] - 0s 2ms/step - loss: 0.6481 - accuracy: 0.5830\n",
            "Epoch 47/250\n",
            "32/32 [==============================] - 0s 3ms/step - loss: 0.6472 - accuracy: 0.5850\n",
            "Epoch 48/250\n",
            "32/32 [==============================] - 0s 2ms/step - loss: 0.6451 - accuracy: 0.5880\n",
            "Epoch 49/250\n",
            "32/32 [==============================] - 0s 2ms/step - loss: 0.6426 - accuracy: 0.5880\n",
            "Epoch 50/250\n",
            "32/32 [==============================] - 0s 2ms/step - loss: 0.6404 - accuracy: 0.5940\n",
            "Epoch 51/250\n",
            "32/32 [==============================] - 0s 2ms/step - loss: 0.6384 - accuracy: 0.6010\n",
            "Epoch 52/250\n",
            "32/32 [==============================] - 0s 2ms/step - loss: 0.6364 - accuracy: 0.6130\n",
            "Epoch 53/250\n",
            "32/32 [==============================] - 0s 2ms/step - loss: 0.6344 - accuracy: 0.6110\n",
            "Epoch 54/250\n",
            "32/32 [==============================] - 0s 2ms/step - loss: 0.6312 - accuracy: 0.6280\n",
            "Epoch 55/250\n",
            "32/32 [==============================] - 0s 2ms/step - loss: 0.6287 - accuracy: 0.6380\n",
            "Epoch 56/250\n",
            "32/32 [==============================] - 0s 2ms/step - loss: 0.6259 - accuracy: 0.6840\n",
            "Epoch 57/250\n",
            "32/32 [==============================] - 0s 2ms/step - loss: 0.6227 - accuracy: 0.6950\n",
            "Epoch 58/250\n",
            "32/32 [==============================] - 0s 2ms/step - loss: 0.6200 - accuracy: 0.6990\n",
            "Epoch 59/250\n",
            "32/32 [==============================] - 0s 2ms/step - loss: 0.6168 - accuracy: 0.6950\n",
            "Epoch 60/250\n",
            "32/32 [==============================] - 0s 2ms/step - loss: 0.6133 - accuracy: 0.7240\n",
            "Epoch 61/250\n",
            "32/32 [==============================] - 0s 2ms/step - loss: 0.6101 - accuracy: 0.7200\n",
            "Epoch 62/250\n",
            "32/32 [==============================] - 0s 2ms/step - loss: 0.6059 - accuracy: 0.7330\n",
            "Epoch 63/250\n",
            "32/32 [==============================] - 0s 2ms/step - loss: 0.6014 - accuracy: 0.7400\n",
            "Epoch 64/250\n",
            "32/32 [==============================] - 0s 2ms/step - loss: 0.5966 - accuracy: 0.7460\n",
            "Epoch 65/250\n",
            "32/32 [==============================] - 0s 2ms/step - loss: 0.5905 - accuracy: 0.7440\n",
            "Epoch 66/250\n",
            "32/32 [==============================] - 0s 2ms/step - loss: 0.5830 - accuracy: 0.7450\n",
            "Epoch 67/250\n",
            "32/32 [==============================] - 0s 2ms/step - loss: 0.5757 - accuracy: 0.7460\n",
            "Epoch 68/250\n",
            "32/32 [==============================] - 0s 2ms/step - loss: 0.5683 - accuracy: 0.7800\n",
            "Epoch 69/250\n",
            "32/32 [==============================] - 0s 2ms/step - loss: 0.5614 - accuracy: 0.8010\n",
            "Epoch 70/250\n",
            "32/32 [==============================] - 0s 2ms/step - loss: 0.5548 - accuracy: 0.8010\n",
            "Epoch 71/250\n",
            "32/32 [==============================] - 0s 2ms/step - loss: 0.5474 - accuracy: 0.8240\n",
            "Epoch 72/250\n",
            "32/32 [==============================] - 0s 2ms/step - loss: 0.5406 - accuracy: 0.8460\n",
            "Epoch 73/250\n",
            "32/32 [==============================] - 0s 2ms/step - loss: 0.5327 - accuracy: 0.8470\n",
            "Epoch 74/250\n",
            "32/32 [==============================] - 0s 2ms/step - loss: 0.5243 - accuracy: 0.8620\n",
            "Epoch 75/250\n",
            "32/32 [==============================] - 0s 2ms/step - loss: 0.5148 - accuracy: 0.8870\n",
            "Epoch 76/250\n",
            "32/32 [==============================] - 0s 2ms/step - loss: 0.5042 - accuracy: 0.8820\n",
            "Epoch 77/250\n",
            "32/32 [==============================] - 0s 2ms/step - loss: 0.4927 - accuracy: 0.9300\n",
            "Epoch 78/250\n",
            "32/32 [==============================] - 0s 2ms/step - loss: 0.4824 - accuracy: 0.9090\n",
            "Epoch 79/250\n",
            "32/32 [==============================] - 0s 2ms/step - loss: 0.4733 - accuracy: 0.9460\n",
            "Epoch 80/250\n",
            "32/32 [==============================] - 0s 2ms/step - loss: 0.4632 - accuracy: 0.9600\n",
            "Epoch 81/250\n",
            "32/32 [==============================] - 0s 2ms/step - loss: 0.4546 - accuracy: 0.9600\n",
            "Epoch 82/250\n",
            "32/32 [==============================] - 0s 2ms/step - loss: 0.4456 - accuracy: 0.9580\n",
            "Epoch 83/250\n",
            "32/32 [==============================] - 0s 2ms/step - loss: 0.4360 - accuracy: 0.9630\n",
            "Epoch 84/250\n",
            "32/32 [==============================] - 0s 2ms/step - loss: 0.4260 - accuracy: 0.9690\n",
            "Epoch 85/250\n",
            "32/32 [==============================] - 0s 2ms/step - loss: 0.4145 - accuracy: 0.9700\n",
            "Epoch 86/250\n",
            "32/32 [==============================] - 0s 2ms/step - loss: 0.4059 - accuracy: 0.9740\n",
            "Epoch 87/250\n",
            "32/32 [==============================] - 0s 2ms/step - loss: 0.3962 - accuracy: 0.9750\n",
            "Epoch 88/250\n",
            "32/32 [==============================] - 0s 2ms/step - loss: 0.3873 - accuracy: 0.9720\n",
            "Epoch 89/250\n",
            "32/32 [==============================] - 0s 2ms/step - loss: 0.3795 - accuracy: 0.9750\n",
            "Epoch 90/250\n",
            "32/32 [==============================] - 0s 2ms/step - loss: 0.3716 - accuracy: 0.9750\n",
            "Epoch 91/250\n",
            "32/32 [==============================] - 0s 2ms/step - loss: 0.3635 - accuracy: 0.9840\n",
            "Epoch 92/250\n",
            "32/32 [==============================] - 0s 2ms/step - loss: 0.3554 - accuracy: 0.9830\n",
            "Epoch 93/250\n",
            "32/32 [==============================] - 0s 2ms/step - loss: 0.3482 - accuracy: 0.9800\n",
            "Epoch 94/250\n",
            "32/32 [==============================] - 0s 2ms/step - loss: 0.3404 - accuracy: 0.9820\n",
            "Epoch 95/250\n",
            "32/32 [==============================] - 0s 2ms/step - loss: 0.3329 - accuracy: 0.9880\n",
            "Epoch 96/250\n",
            "32/32 [==============================] - 0s 2ms/step - loss: 0.3268 - accuracy: 0.9870\n",
            "Epoch 97/250\n",
            "32/32 [==============================] - 0s 2ms/step - loss: 0.3190 - accuracy: 0.9870\n",
            "Epoch 98/250\n",
            "32/32 [==============================] - 0s 2ms/step - loss: 0.3122 - accuracy: 0.9890\n",
            "Epoch 99/250\n",
            "32/32 [==============================] - 0s 2ms/step - loss: 0.3059 - accuracy: 0.9880\n",
            "Epoch 100/250\n",
            "32/32 [==============================] - 0s 2ms/step - loss: 0.2993 - accuracy: 0.9890\n",
            "Epoch 101/250\n",
            "32/32 [==============================] - 0s 2ms/step - loss: 0.2931 - accuracy: 0.9900\n",
            "Epoch 102/250\n",
            "32/32 [==============================] - 0s 2ms/step - loss: 0.2871 - accuracy: 0.9900\n",
            "Epoch 103/250\n",
            "32/32 [==============================] - 0s 2ms/step - loss: 0.2805 - accuracy: 0.9900\n",
            "Epoch 104/250\n",
            "32/32 [==============================] - 0s 2ms/step - loss: 0.2749 - accuracy: 0.9920\n",
            "Epoch 105/250\n",
            "32/32 [==============================] - 0s 2ms/step - loss: 0.2698 - accuracy: 0.9910\n",
            "Epoch 106/250\n",
            "32/32 [==============================] - 0s 2ms/step - loss: 0.2639 - accuracy: 0.9910\n",
            "Epoch 107/250\n",
            "32/32 [==============================] - 0s 2ms/step - loss: 0.2589 - accuracy: 0.9900\n",
            "Epoch 108/250\n",
            "32/32 [==============================] - 0s 2ms/step - loss: 0.2539 - accuracy: 0.9890\n",
            "Epoch 109/250\n",
            "32/32 [==============================] - 0s 2ms/step - loss: 0.2483 - accuracy: 0.9920\n",
            "Epoch 110/250\n",
            "32/32 [==============================] - 0s 2ms/step - loss: 0.2433 - accuracy: 0.9920\n",
            "Epoch 111/250\n",
            "32/32 [==============================] - 0s 2ms/step - loss: 0.2390 - accuracy: 0.9900\n",
            "Epoch 112/250\n",
            "32/32 [==============================] - 0s 2ms/step - loss: 0.2354 - accuracy: 0.9900\n",
            "Epoch 113/250\n",
            "32/32 [==============================] - 0s 2ms/step - loss: 0.2293 - accuracy: 0.9910\n",
            "Epoch 114/250\n",
            "32/32 [==============================] - 0s 2ms/step - loss: 0.2251 - accuracy: 0.9910\n",
            "Epoch 115/250\n",
            "32/32 [==============================] - 0s 2ms/step - loss: 0.2209 - accuracy: 0.9920\n",
            "Epoch 116/250\n",
            "32/32 [==============================] - 0s 2ms/step - loss: 0.2164 - accuracy: 0.9920\n",
            "Epoch 117/250\n",
            "32/32 [==============================] - 0s 2ms/step - loss: 0.2130 - accuracy: 0.9900\n",
            "Epoch 118/250\n",
            "32/32 [==============================] - 0s 2ms/step - loss: 0.2092 - accuracy: 0.9910\n",
            "Epoch 119/250\n",
            "32/32 [==============================] - 0s 2ms/step - loss: 0.2050 - accuracy: 0.9910\n",
            "Epoch 120/250\n",
            "32/32 [==============================] - 0s 2ms/step - loss: 0.2016 - accuracy: 0.9890\n",
            "Epoch 121/250\n",
            "32/32 [==============================] - 0s 2ms/step - loss: 0.1979 - accuracy: 0.9920\n",
            "Epoch 122/250\n",
            "32/32 [==============================] - 0s 2ms/step - loss: 0.1938 - accuracy: 0.9910\n",
            "Epoch 123/250\n",
            "32/32 [==============================] - 0s 2ms/step - loss: 0.1906 - accuracy: 0.9920\n",
            "Epoch 124/250\n",
            "32/32 [==============================] - 0s 2ms/step - loss: 0.1872 - accuracy: 0.9910\n",
            "Epoch 125/250\n",
            "32/32 [==============================] - 0s 2ms/step - loss: 0.1839 - accuracy: 0.9900\n",
            "Epoch 126/250\n",
            "32/32 [==============================] - 0s 2ms/step - loss: 0.1809 - accuracy: 0.9920\n",
            "Epoch 127/250\n",
            "32/32 [==============================] - 0s 2ms/step - loss: 0.1771 - accuracy: 0.9910\n",
            "Epoch 128/250\n",
            "32/32 [==============================] - 0s 2ms/step - loss: 0.1747 - accuracy: 0.9920\n",
            "Epoch 129/250\n",
            "32/32 [==============================] - 0s 2ms/step - loss: 0.1712 - accuracy: 0.9930\n",
            "Epoch 130/250\n",
            "32/32 [==============================] - 0s 2ms/step - loss: 0.1682 - accuracy: 0.9930\n",
            "Epoch 131/250\n",
            "32/32 [==============================] - 0s 2ms/step - loss: 0.1662 - accuracy: 0.9910\n",
            "Epoch 132/250\n",
            "32/32 [==============================] - 0s 2ms/step - loss: 0.1630 - accuracy: 0.9930\n",
            "Epoch 133/250\n",
            "32/32 [==============================] - 0s 2ms/step - loss: 0.1603 - accuracy: 0.9910\n",
            "Epoch 134/250\n",
            "32/32 [==============================] - 0s 2ms/step - loss: 0.1578 - accuracy: 0.9910\n",
            "Epoch 135/250\n",
            "32/32 [==============================] - 0s 2ms/step - loss: 0.1552 - accuracy: 0.9940\n",
            "Epoch 136/250\n",
            "32/32 [==============================] - 0s 2ms/step - loss: 0.1530 - accuracy: 0.9920\n",
            "Epoch 137/250\n",
            "32/32 [==============================] - 0s 2ms/step - loss: 0.1510 - accuracy: 0.9920\n",
            "Epoch 138/250\n",
            "32/32 [==============================] - 0s 2ms/step - loss: 0.1480 - accuracy: 0.9930\n",
            "Epoch 139/250\n",
            "32/32 [==============================] - 0s 2ms/step - loss: 0.1459 - accuracy: 0.9920\n",
            "Epoch 140/250\n",
            "32/32 [==============================] - 0s 2ms/step - loss: 0.1439 - accuracy: 0.9910\n",
            "Epoch 141/250\n",
            "32/32 [==============================] - 0s 2ms/step - loss: 0.1420 - accuracy: 0.9930\n",
            "Epoch 142/250\n",
            "32/32 [==============================] - 0s 2ms/step - loss: 0.1392 - accuracy: 0.9940\n",
            "Epoch 143/250\n",
            "32/32 [==============================] - 0s 2ms/step - loss: 0.1376 - accuracy: 0.9920\n",
            "Epoch 144/250\n",
            "32/32 [==============================] - 0s 2ms/step - loss: 0.1356 - accuracy: 0.9930\n",
            "Epoch 145/250\n",
            "32/32 [==============================] - 0s 2ms/step - loss: 0.1332 - accuracy: 0.9920\n",
            "Epoch 146/250\n",
            "32/32 [==============================] - 0s 2ms/step - loss: 0.1314 - accuracy: 0.9910\n",
            "Epoch 147/250\n",
            "32/32 [==============================] - 0s 2ms/step - loss: 0.1295 - accuracy: 0.9900\n",
            "Epoch 148/250\n",
            "32/32 [==============================] - 0s 2ms/step - loss: 0.1276 - accuracy: 0.9930\n",
            "Epoch 149/250\n",
            "32/32 [==============================] - 0s 2ms/step - loss: 0.1257 - accuracy: 0.9930\n",
            "Epoch 150/250\n",
            "32/32 [==============================] - 0s 2ms/step - loss: 0.1242 - accuracy: 0.9920\n",
            "Epoch 151/250\n",
            "32/32 [==============================] - 0s 2ms/step - loss: 0.1229 - accuracy: 0.9910\n",
            "Epoch 152/250\n",
            "32/32 [==============================] - 0s 2ms/step - loss: 0.1208 - accuracy: 0.9920\n",
            "Epoch 153/250\n",
            "32/32 [==============================] - 0s 2ms/step - loss: 0.1190 - accuracy: 0.9930\n",
            "Epoch 154/250\n",
            "32/32 [==============================] - 0s 2ms/step - loss: 0.1174 - accuracy: 0.9920\n",
            "Epoch 155/250\n",
            "32/32 [==============================] - 0s 2ms/step - loss: 0.1156 - accuracy: 0.9940\n",
            "Epoch 156/250\n",
            "32/32 [==============================] - 0s 2ms/step - loss: 0.1143 - accuracy: 0.9930\n",
            "Epoch 157/250\n",
            "32/32 [==============================] - 0s 2ms/step - loss: 0.1128 - accuracy: 0.9920\n",
            "Epoch 158/250\n",
            "32/32 [==============================] - 0s 2ms/step - loss: 0.1112 - accuracy: 0.9930\n",
            "Epoch 159/250\n",
            "32/32 [==============================] - 0s 2ms/step - loss: 0.1099 - accuracy: 0.9920\n",
            "Epoch 160/250\n",
            "32/32 [==============================] - 0s 2ms/step - loss: 0.1090 - accuracy: 0.9900\n",
            "Epoch 161/250\n",
            "32/32 [==============================] - 0s 2ms/step - loss: 0.1079 - accuracy: 0.9930\n",
            "Epoch 162/250\n",
            "32/32 [==============================] - 0s 2ms/step - loss: 0.1058 - accuracy: 0.9930\n",
            "Epoch 163/250\n",
            "32/32 [==============================] - 0s 2ms/step - loss: 0.1046 - accuracy: 0.9940\n",
            "Epoch 164/250\n",
            "32/32 [==============================] - 0s 2ms/step - loss: 0.1031 - accuracy: 0.9930\n",
            "Epoch 165/250\n",
            "32/32 [==============================] - 0s 2ms/step - loss: 0.1027 - accuracy: 0.9890\n",
            "Epoch 166/250\n",
            "32/32 [==============================] - 0s 2ms/step - loss: 0.1010 - accuracy: 0.9930\n",
            "Epoch 167/250\n",
            "32/32 [==============================] - 0s 2ms/step - loss: 0.0996 - accuracy: 0.9930\n",
            "Epoch 168/250\n",
            "32/32 [==============================] - 0s 2ms/step - loss: 0.0986 - accuracy: 0.9920\n",
            "Epoch 169/250\n",
            "32/32 [==============================] - 0s 2ms/step - loss: 0.0970 - accuracy: 0.9930\n",
            "Epoch 170/250\n",
            "32/32 [==============================] - 0s 2ms/step - loss: 0.0959 - accuracy: 0.9920\n",
            "Epoch 171/250\n",
            "32/32 [==============================] - 0s 2ms/step - loss: 0.0949 - accuracy: 0.9920\n",
            "Epoch 172/250\n",
            "32/32 [==============================] - 0s 2ms/step - loss: 0.0937 - accuracy: 0.9920\n",
            "Epoch 173/250\n",
            "32/32 [==============================] - 0s 2ms/step - loss: 0.0926 - accuracy: 0.9930\n",
            "Epoch 174/250\n",
            "32/32 [==============================] - 0s 2ms/step - loss: 0.0915 - accuracy: 0.9920\n",
            "Epoch 175/250\n",
            "32/32 [==============================] - 0s 2ms/step - loss: 0.0913 - accuracy: 0.9910\n",
            "Epoch 176/250\n",
            "32/32 [==============================] - 0s 2ms/step - loss: 0.0900 - accuracy: 0.9930\n",
            "Epoch 177/250\n",
            "32/32 [==============================] - 0s 2ms/step - loss: 0.0885 - accuracy: 0.9940\n",
            "Epoch 178/250\n",
            "32/32 [==============================] - 0s 2ms/step - loss: 0.0882 - accuracy: 0.9900\n",
            "Epoch 179/250\n",
            "32/32 [==============================] - 0s 2ms/step - loss: 0.0869 - accuracy: 0.9920\n",
            "Epoch 180/250\n",
            "32/32 [==============================] - 0s 2ms/step - loss: 0.0859 - accuracy: 0.9930\n",
            "Epoch 181/250\n",
            "32/32 [==============================] - 0s 2ms/step - loss: 0.0851 - accuracy: 0.9930\n",
            "Epoch 182/250\n",
            "32/32 [==============================] - 0s 2ms/step - loss: 0.0840 - accuracy: 0.9920\n",
            "Epoch 183/250\n",
            "32/32 [==============================] - 0s 2ms/step - loss: 0.0831 - accuracy: 0.9920\n",
            "Epoch 184/250\n",
            "32/32 [==============================] - 0s 3ms/step - loss: 0.0823 - accuracy: 0.9920\n",
            "Epoch 185/250\n",
            "32/32 [==============================] - 0s 2ms/step - loss: 0.0816 - accuracy: 0.9940\n",
            "Epoch 186/250\n",
            "32/32 [==============================] - 0s 2ms/step - loss: 0.0809 - accuracy: 0.9930\n",
            "Epoch 187/250\n",
            "32/32 [==============================] - 0s 2ms/step - loss: 0.0801 - accuracy: 0.9940\n",
            "Epoch 188/250\n",
            "32/32 [==============================] - 0s 2ms/step - loss: 0.0786 - accuracy: 0.9920\n",
            "Epoch 189/250\n",
            "32/32 [==============================] - 0s 2ms/step - loss: 0.0780 - accuracy: 0.9930\n",
            "Epoch 190/250\n",
            "32/32 [==============================] - 0s 2ms/step - loss: 0.0773 - accuracy: 0.9930\n",
            "Epoch 191/250\n",
            "32/32 [==============================] - 0s 2ms/step - loss: 0.0767 - accuracy: 0.9920\n",
            "Epoch 192/250\n",
            "32/32 [==============================] - 0s 2ms/step - loss: 0.0759 - accuracy: 0.9910\n",
            "Epoch 193/250\n",
            "32/32 [==============================] - 0s 2ms/step - loss: 0.0748 - accuracy: 0.9910\n",
            "Epoch 194/250\n",
            "32/32 [==============================] - 0s 2ms/step - loss: 0.0742 - accuracy: 0.9920\n",
            "Epoch 195/250\n",
            "32/32 [==============================] - 0s 2ms/step - loss: 0.0735 - accuracy: 0.9930\n",
            "Epoch 196/250\n",
            "32/32 [==============================] - 0s 2ms/step - loss: 0.0728 - accuracy: 0.9920\n",
            "Epoch 197/250\n",
            "32/32 [==============================] - 0s 2ms/step - loss: 0.0719 - accuracy: 0.9920\n",
            "Epoch 198/250\n",
            "32/32 [==============================] - 0s 2ms/step - loss: 0.0716 - accuracy: 0.9930\n",
            "Epoch 199/250\n",
            "32/32 [==============================] - 0s 2ms/step - loss: 0.0704 - accuracy: 0.9920\n",
            "Epoch 200/250\n",
            "32/32 [==============================] - 0s 2ms/step - loss: 0.0702 - accuracy: 0.9920\n",
            "Epoch 201/250\n",
            "32/32 [==============================] - 0s 2ms/step - loss: 0.0695 - accuracy: 0.9930\n",
            "Epoch 202/250\n",
            "32/32 [==============================] - 0s 2ms/step - loss: 0.0686 - accuracy: 0.9930\n",
            "Epoch 203/250\n",
            "32/32 [==============================] - 0s 2ms/step - loss: 0.0682 - accuracy: 0.9930\n",
            "Epoch 204/250\n",
            "32/32 [==============================] - 0s 2ms/step - loss: 0.0671 - accuracy: 0.9920\n",
            "Epoch 205/250\n",
            "32/32 [==============================] - 0s 2ms/step - loss: 0.0668 - accuracy: 0.9930\n",
            "Epoch 206/250\n",
            "32/32 [==============================] - 0s 2ms/step - loss: 0.0666 - accuracy: 0.9930\n",
            "Epoch 207/250\n",
            "32/32 [==============================] - 0s 2ms/step - loss: 0.0654 - accuracy: 0.9920\n",
            "Epoch 208/250\n",
            "32/32 [==============================] - 0s 2ms/step - loss: 0.0654 - accuracy: 0.9930\n",
            "Epoch 209/250\n",
            "32/32 [==============================] - 0s 2ms/step - loss: 0.0647 - accuracy: 0.9920\n",
            "Epoch 210/250\n",
            "32/32 [==============================] - 0s 2ms/step - loss: 0.0641 - accuracy: 0.9920\n",
            "Epoch 211/250\n",
            "32/32 [==============================] - 0s 2ms/step - loss: 0.0643 - accuracy: 0.9920\n",
            "Epoch 212/250\n",
            "32/32 [==============================] - 0s 2ms/step - loss: 0.0627 - accuracy: 0.9920\n",
            "Epoch 213/250\n",
            "32/32 [==============================] - 0s 2ms/step - loss: 0.0623 - accuracy: 0.9920\n",
            "Epoch 214/250\n",
            "32/32 [==============================] - 0s 2ms/step - loss: 0.0615 - accuracy: 0.9930\n",
            "Epoch 215/250\n",
            "32/32 [==============================] - 0s 2ms/step - loss: 0.0610 - accuracy: 0.9920\n",
            "Epoch 216/250\n",
            "32/32 [==============================] - 0s 2ms/step - loss: 0.0610 - accuracy: 0.9910\n",
            "Epoch 217/250\n",
            "32/32 [==============================] - 0s 2ms/step - loss: 0.0599 - accuracy: 0.9930\n",
            "Epoch 218/250\n",
            "32/32 [==============================] - 0s 2ms/step - loss: 0.0594 - accuracy: 0.9910\n",
            "Epoch 219/250\n",
            "32/32 [==============================] - 0s 2ms/step - loss: 0.0591 - accuracy: 0.9930\n",
            "Epoch 220/250\n",
            "32/32 [==============================] - 0s 2ms/step - loss: 0.0589 - accuracy: 0.9920\n",
            "Epoch 221/250\n",
            "32/32 [==============================] - 0s 2ms/step - loss: 0.0583 - accuracy: 0.9930\n",
            "Epoch 222/250\n",
            "32/32 [==============================] - 0s 2ms/step - loss: 0.0575 - accuracy: 0.9920\n",
            "Epoch 223/250\n",
            "32/32 [==============================] - 0s 2ms/step - loss: 0.0574 - accuracy: 0.9930\n",
            "Epoch 224/250\n",
            "32/32 [==============================] - 0s 2ms/step - loss: 0.0569 - accuracy: 0.9930\n",
            "Epoch 225/250\n",
            "32/32 [==============================] - 0s 2ms/step - loss: 0.0567 - accuracy: 0.9950\n",
            "Epoch 226/250\n",
            "32/32 [==============================] - 0s 2ms/step - loss: 0.0560 - accuracy: 0.9920\n",
            "Epoch 227/250\n",
            "32/32 [==============================] - 0s 2ms/step - loss: 0.0554 - accuracy: 0.9950\n",
            "Epoch 228/250\n",
            "32/32 [==============================] - 0s 2ms/step - loss: 0.0549 - accuracy: 0.9920\n",
            "Epoch 229/250\n",
            "32/32 [==============================] - 0s 2ms/step - loss: 0.0543 - accuracy: 0.9920\n",
            "Epoch 230/250\n",
            "32/32 [==============================] - 0s 2ms/step - loss: 0.0538 - accuracy: 0.9930\n",
            "Epoch 231/250\n",
            "32/32 [==============================] - 0s 2ms/step - loss: 0.0533 - accuracy: 0.9930\n",
            "Epoch 232/250\n",
            "32/32 [==============================] - 0s 2ms/step - loss: 0.0531 - accuracy: 0.9920\n",
            "Epoch 233/250\n",
            "32/32 [==============================] - 0s 2ms/step - loss: 0.0529 - accuracy: 0.9930\n",
            "Epoch 234/250\n",
            "32/32 [==============================] - 0s 2ms/step - loss: 0.0523 - accuracy: 0.9930\n",
            "Epoch 235/250\n",
            "32/32 [==============================] - 0s 2ms/step - loss: 0.0519 - accuracy: 0.9930\n",
            "Epoch 236/250\n",
            "32/32 [==============================] - 0s 2ms/step - loss: 0.0515 - accuracy: 0.9930\n",
            "Epoch 237/250\n",
            "32/32 [==============================] - 0s 2ms/step - loss: 0.0513 - accuracy: 0.9900\n",
            "Epoch 238/250\n",
            "32/32 [==============================] - 0s 2ms/step - loss: 0.0512 - accuracy: 0.9920\n",
            "Epoch 239/250\n",
            "32/32 [==============================] - 0s 2ms/step - loss: 0.0503 - accuracy: 0.9930\n",
            "Epoch 240/250\n",
            "32/32 [==============================] - 0s 2ms/step - loss: 0.0503 - accuracy: 0.9940\n",
            "Epoch 241/250\n",
            "32/32 [==============================] - 0s 2ms/step - loss: 0.0500 - accuracy: 0.9920\n",
            "Epoch 242/250\n",
            "32/32 [==============================] - 0s 2ms/step - loss: 0.0494 - accuracy: 0.9930\n",
            "Epoch 243/250\n",
            "32/32 [==============================] - 0s 2ms/step - loss: 0.0491 - accuracy: 0.9930\n",
            "Epoch 244/250\n",
            "32/32 [==============================] - 0s 2ms/step - loss: 0.0492 - accuracy: 0.9920\n",
            "Epoch 245/250\n",
            "32/32 [==============================] - 0s 2ms/step - loss: 0.0487 - accuracy: 0.9940\n",
            "Epoch 246/250\n",
            "32/32 [==============================] - 0s 2ms/step - loss: 0.0483 - accuracy: 0.9930\n",
            "Epoch 247/250\n",
            "32/32 [==============================] - 0s 2ms/step - loss: 0.0479 - accuracy: 0.9950\n",
            "Epoch 248/250\n",
            "32/32 [==============================] - 0s 2ms/step - loss: 0.0475 - accuracy: 0.9930\n",
            "Epoch 249/250\n",
            "32/32 [==============================] - 0s 2ms/step - loss: 0.0471 - accuracy: 0.9950\n",
            "Epoch 250/250\n",
            "32/32 [==============================] - 0s 2ms/step - loss: 0.0471 - accuracy: 0.9940\n"
          ]
        }
      ],
      "source": [
        "tf.random.set_seed(42)\n",
        "\n",
        "\n",
        "model_7 = tf.keras.Sequential([\n",
        "\n",
        "    tf.keras.layers.Dense(4,activation = \"relu\"),\n",
        "    tf.keras.layers.Dense(4,activation=\"relu\"),\n",
        "    tf.keras.layers.Dense(1,activation = \"sigmoid\")\n",
        "])\n",
        "\n",
        "\n",
        "model_7.compile(loss = \"binary_crossentropy\",\n",
        "optimizer = tf.keras.optimizers.Adam(learning_rate=0.001),\n",
        "metrics = [\"accuracy\"])\n",
        "\n",
        "history = model_7.fit(x,y,epochs=250)"
      ]
    },
    {
      "cell_type": "code",
      "execution_count": 48,
      "metadata": {
        "id": "Q4CXZohDlPzu",
        "outputId": "cd742203-af9d-463d-ff5b-559b05423513",
        "colab": {
          "base_uri": "https://localhost:8080/",
          "height": 0
        }
      },
      "outputs": [
        {
          "output_type": "stream",
          "name": "stdout",
          "text": [
            "313/313 [==============================] - 0s 1ms/step\n",
            "doing binary classifcation...\n"
          ]
        },
        {
          "output_type": "display_data",
          "data": {
            "text/plain": [
              "<Figure size 432x288 with 1 Axes>"
            ],
            "image/png": "[encoded data removed]"
          },
          "metadata": {
            "needs_background": "light"
          }
        }
      ],
      "source": [
        "plot_decision_boundary(model_7,x,y)"
      ]
    },
    {
      "cell_type": "markdown",
      "metadata": {
        "id": "QjK63BrClPzu"
      },
      "source": [
        "#### Evaluating and improving our classification"
      ]
    },
    {
      "cell_type": "code",
      "execution_count": 49,
      "metadata": {
        "id": "yNYjJJXnlPzv",
        "outputId": "e0e7fdcd-f9aa-4fd8-80da-2f20272427ff",
        "colab": {
          "base_uri": "https://localhost:8080/"
        }
      },
      "outputs": [
        {
          "output_type": "execute_result",
          "data": {
            "text/plain": [
              "1000"
            ]
          },
          "metadata": {},
          "execution_count": 49
        }
      ],
      "source": [
        "len(x)"
      ]
    },
    {
      "cell_type": "code",
      "execution_count": 50,
      "metadata": {
        "id": "8GbBYWe3lPzv"
      },
      "outputs": [],
      "source": [
        "from sklearn.model_selection import train_test_split\n",
        "\n",
        "x_train,x_test,y_train,y_test = train_test_split(x,y,test_size=0.2)"
      ]
    },
    {
      "cell_type": "code",
      "execution_count": 51,
      "metadata": {
        "id": "154ANOIPlPzw",
        "outputId": "8ea40295-edde-4f62-d876-1f0e95794150",
        "colab": {
          "base_uri": "https://localhost:8080/"
        }
      },
      "outputs": [
        {
          "output_type": "execute_result",
          "data": {
            "text/plain": [
              "((800, 2), (800,), (200, 2), (200,))"
            ]
          },
          "metadata": {},
          "execution_count": 51
        }
      ],
      "source": [
        "x_train.shape,y_train.shape,x_test.shape,y_test.shape"
      ]
    },
    {
      "cell_type": "code",
      "execution_count": 52,
      "metadata": {
        "id": "6_4RoRQIlPzw",
        "outputId": "f3727895-0b76-4140-efd1-2abbd76af0b6",
        "colab": {
          "base_uri": "https://localhost:8080/"
        }
      },
      "outputs": [
        {
          "output_type": "stream",
          "name": "stdout",
          "text": [
            "Epoch 1/250\n",
            "25/25 [==============================] - 1s 2ms/step - loss: 0.6890 - accuracy: 0.5050\n",
            "Epoch 2/250\n",
            "25/25 [==============================] - 0s 2ms/step - loss: 0.6855 - accuracy: 0.5163\n",
            "Epoch 3/250\n",
            "25/25 [==============================] - 0s 2ms/step - loss: 0.6832 - accuracy: 0.5325\n",
            "Epoch 4/250\n",
            "25/25 [==============================] - 0s 2ms/step - loss: 0.6820 - accuracy: 0.5288\n",
            "Epoch 5/250\n",
            "25/25 [==============================] - 0s 2ms/step - loss: 0.6811 - accuracy: 0.5288\n",
            "Epoch 6/250\n",
            "25/25 [==============================] - 0s 2ms/step - loss: 0.6804 - accuracy: 0.5325\n",
            "Epoch 7/250\n",
            "25/25 [==============================] - 0s 2ms/step - loss: 0.6801 - accuracy: 0.5350\n",
            "Epoch 8/250\n",
            "25/25 [==============================] - 0s 2ms/step - loss: 0.6793 - accuracy: 0.5362\n",
            "Epoch 9/250\n",
            "25/25 [==============================] - 0s 2ms/step - loss: 0.6789 - accuracy: 0.5350\n",
            "Epoch 10/250\n",
            "25/25 [==============================] - 0s 2ms/step - loss: 0.6782 - accuracy: 0.5312\n",
            "Epoch 11/250\n",
            "25/25 [==============================] - 0s 2ms/step - loss: 0.6778 - accuracy: 0.5375\n",
            "Epoch 12/250\n",
            "25/25 [==============================] - 0s 2ms/step - loss: 0.6773 - accuracy: 0.5425\n",
            "Epoch 13/250\n",
            "25/25 [==============================] - 0s 2ms/step - loss: 0.6769 - accuracy: 0.5400\n",
            "Epoch 14/250\n",
            "25/25 [==============================] - 0s 2ms/step - loss: 0.6764 - accuracy: 0.5425\n",
            "Epoch 15/250\n",
            "25/25 [==============================] - 0s 2ms/step - loss: 0.6761 - accuracy: 0.5425\n",
            "Epoch 16/250\n",
            "25/25 [==============================] - 0s 2ms/step - loss: 0.6756 - accuracy: 0.5437\n",
            "Epoch 17/250\n",
            "25/25 [==============================] - 0s 2ms/step - loss: 0.6751 - accuracy: 0.5450\n",
            "Epoch 18/250\n",
            "25/25 [==============================] - 0s 2ms/step - loss: 0.6749 - accuracy: 0.5475\n",
            "Epoch 19/250\n",
            "25/25 [==============================] - 0s 2ms/step - loss: 0.6742 - accuracy: 0.5462\n",
            "Epoch 20/250\n",
            "25/25 [==============================] - 0s 2ms/step - loss: 0.6737 - accuracy: 0.5525\n",
            "Epoch 21/250\n",
            "25/25 [==============================] - 0s 2ms/step - loss: 0.6735 - accuracy: 0.5512\n",
            "Epoch 22/250\n",
            "25/25 [==============================] - 0s 2ms/step - loss: 0.6729 - accuracy: 0.5537\n",
            "Epoch 23/250\n",
            "25/25 [==============================] - 0s 2ms/step - loss: 0.6725 - accuracy: 0.5512\n",
            "Epoch 24/250\n",
            "25/25 [==============================] - 0s 2ms/step - loss: 0.6722 - accuracy: 0.5525\n",
            "Epoch 25/250\n",
            "25/25 [==============================] - 0s 2ms/step - loss: 0.6715 - accuracy: 0.5525\n",
            "Epoch 26/250\n",
            "25/25 [==============================] - 0s 2ms/step - loss: 0.6711 - accuracy: 0.5525\n",
            "Epoch 27/250\n",
            "25/25 [==============================] - 0s 2ms/step - loss: 0.6706 - accuracy: 0.5525\n",
            "Epoch 28/250\n",
            "25/25 [==============================] - 0s 2ms/step - loss: 0.6700 - accuracy: 0.5537\n",
            "Epoch 29/250\n",
            "25/25 [==============================] - 0s 2ms/step - loss: 0.6696 - accuracy: 0.5625\n",
            "Epoch 30/250\n",
            "25/25 [==============================] - 0s 2ms/step - loss: 0.6690 - accuracy: 0.5587\n",
            "Epoch 31/250\n",
            "25/25 [==============================] - 0s 2ms/step - loss: 0.6684 - accuracy: 0.5625\n",
            "Epoch 32/250\n",
            "25/25 [==============================] - 0s 2ms/step - loss: 0.6679 - accuracy: 0.5663\n",
            "Epoch 33/250\n",
            "25/25 [==============================] - 0s 2ms/step - loss: 0.6674 - accuracy: 0.5638\n",
            "Epoch 34/250\n",
            "25/25 [==============================] - 0s 2ms/step - loss: 0.6671 - accuracy: 0.5700\n",
            "Epoch 35/250\n",
            "25/25 [==============================] - 0s 2ms/step - loss: 0.6664 - accuracy: 0.5700\n",
            "Epoch 36/250\n",
            "25/25 [==============================] - 0s 2ms/step - loss: 0.6656 - accuracy: 0.5700\n",
            "Epoch 37/250\n",
            "25/25 [==============================] - 0s 2ms/step - loss: 0.6650 - accuracy: 0.5688\n",
            "Epoch 38/250\n",
            "25/25 [==============================] - 0s 2ms/step - loss: 0.6642 - accuracy: 0.5750\n",
            "Epoch 39/250\n",
            "25/25 [==============================] - 0s 2ms/step - loss: 0.6637 - accuracy: 0.5750\n",
            "Epoch 40/250\n",
            "25/25 [==============================] - 0s 2ms/step - loss: 0.6629 - accuracy: 0.5738\n",
            "Epoch 41/250\n",
            "25/25 [==============================] - 0s 2ms/step - loss: 0.6621 - accuracy: 0.5750\n",
            "Epoch 42/250\n",
            "25/25 [==============================] - 0s 2ms/step - loss: 0.6618 - accuracy: 0.5763\n",
            "Epoch 43/250\n",
            "25/25 [==============================] - 0s 2ms/step - loss: 0.6608 - accuracy: 0.5813\n",
            "Epoch 44/250\n",
            "25/25 [==============================] - 0s 2ms/step - loss: 0.6598 - accuracy: 0.5775\n",
            "Epoch 45/250\n",
            "25/25 [==============================] - 0s 2ms/step - loss: 0.6592 - accuracy: 0.5825\n",
            "Epoch 46/250\n",
            "25/25 [==============================] - 0s 2ms/step - loss: 0.6584 - accuracy: 0.5788\n",
            "Epoch 47/250\n",
            "25/25 [==============================] - 0s 2ms/step - loss: 0.6571 - accuracy: 0.5788\n",
            "Epoch 48/250\n",
            "25/25 [==============================] - 0s 2ms/step - loss: 0.6561 - accuracy: 0.5813\n",
            "Epoch 49/250\n",
            "25/25 [==============================] - 0s 2ms/step - loss: 0.6552 - accuracy: 0.5825\n",
            "Epoch 50/250\n",
            "25/25 [==============================] - 0s 2ms/step - loss: 0.6540 - accuracy: 0.5913\n",
            "Epoch 51/250\n",
            "25/25 [==============================] - 0s 2ms/step - loss: 0.6528 - accuracy: 0.5913\n",
            "Epoch 52/250\n",
            "25/25 [==============================] - 0s 2ms/step - loss: 0.6510 - accuracy: 0.6037\n",
            "Epoch 53/250\n",
            "25/25 [==============================] - 0s 2ms/step - loss: 0.6497 - accuracy: 0.6012\n",
            "Epoch 54/250\n",
            "25/25 [==============================] - 0s 2ms/step - loss: 0.6470 - accuracy: 0.6075\n",
            "Epoch 55/250\n",
            "25/25 [==============================] - 0s 2ms/step - loss: 0.6456 - accuracy: 0.6125\n",
            "Epoch 56/250\n",
            "25/25 [==============================] - 0s 2ms/step - loss: 0.6436 - accuracy: 0.6175\n",
            "Epoch 57/250\n",
            "25/25 [==============================] - 0s 2ms/step - loss: 0.6422 - accuracy: 0.6263\n",
            "Epoch 58/250\n",
            "25/25 [==============================] - 0s 2ms/step - loss: 0.6403 - accuracy: 0.6338\n",
            "Epoch 59/250\n",
            "25/25 [==============================] - 0s 2ms/step - loss: 0.6383 - accuracy: 0.6438\n",
            "Epoch 60/250\n",
            "25/25 [==============================] - 0s 2ms/step - loss: 0.6368 - accuracy: 0.6488\n",
            "Epoch 61/250\n",
            "25/25 [==============================] - 0s 2ms/step - loss: 0.6346 - accuracy: 0.6625\n",
            "Epoch 62/250\n",
            "25/25 [==============================] - 0s 2ms/step - loss: 0.6326 - accuracy: 0.6650\n",
            "Epoch 63/250\n",
            "25/25 [==============================] - 0s 2ms/step - loss: 0.6309 - accuracy: 0.6762\n",
            "Epoch 64/250\n",
            "25/25 [==============================] - 0s 2ms/step - loss: 0.6286 - accuracy: 0.6825\n",
            "Epoch 65/250\n",
            "25/25 [==============================] - 0s 2ms/step - loss: 0.6263 - accuracy: 0.6938\n",
            "Epoch 66/250\n",
            "25/25 [==============================] - 0s 2ms/step - loss: 0.6237 - accuracy: 0.7000\n",
            "Epoch 67/250\n",
            "25/25 [==============================] - 0s 2ms/step - loss: 0.6212 - accuracy: 0.7038\n",
            "Epoch 68/250\n",
            "25/25 [==============================] - 0s 2ms/step - loss: 0.6185 - accuracy: 0.7113\n",
            "Epoch 69/250\n",
            "25/25 [==============================] - 0s 2ms/step - loss: 0.6158 - accuracy: 0.7200\n",
            "Epoch 70/250\n",
            "25/25 [==============================] - 0s 2ms/step - loss: 0.6129 - accuracy: 0.7163\n",
            "Epoch 71/250\n",
            "25/25 [==============================] - 0s 2ms/step - loss: 0.6091 - accuracy: 0.7387\n",
            "Epoch 72/250\n",
            "25/25 [==============================] - 0s 2ms/step - loss: 0.6055 - accuracy: 0.7538\n",
            "Epoch 73/250\n",
            "25/25 [==============================] - 0s 2ms/step - loss: 0.6006 - accuracy: 0.7487\n",
            "Epoch 74/250\n",
            "25/25 [==============================] - 0s 2ms/step - loss: 0.5966 - accuracy: 0.7462\n",
            "Epoch 75/250\n",
            "25/25 [==============================] - 0s 2ms/step - loss: 0.5907 - accuracy: 0.7825\n",
            "Epoch 76/250\n",
            "25/25 [==============================] - 0s 2ms/step - loss: 0.5858 - accuracy: 0.7900\n",
            "Epoch 77/250\n",
            "25/25 [==============================] - 0s 2ms/step - loss: 0.5807 - accuracy: 0.7875\n",
            "Epoch 78/250\n",
            "25/25 [==============================] - 0s 2ms/step - loss: 0.5759 - accuracy: 0.8000\n",
            "Epoch 79/250\n",
            "25/25 [==============================] - 0s 2ms/step - loss: 0.5707 - accuracy: 0.8363\n",
            "Epoch 80/250\n",
            "25/25 [==============================] - 0s 2ms/step - loss: 0.5656 - accuracy: 0.8213\n",
            "Epoch 81/250\n",
            "25/25 [==============================] - 0s 2ms/step - loss: 0.5585 - accuracy: 0.8413\n",
            "Epoch 82/250\n",
            "25/25 [==============================] - 0s 2ms/step - loss: 0.5524 - accuracy: 0.8587\n",
            "Epoch 83/250\n",
            "25/25 [==============================] - 0s 2ms/step - loss: 0.5457 - accuracy: 0.8537\n",
            "Epoch 84/250\n",
            "25/25 [==============================] - 0s 2ms/step - loss: 0.5390 - accuracy: 0.8612\n",
            "Epoch 85/250\n",
            "25/25 [==============================] - 0s 2ms/step - loss: 0.5325 - accuracy: 0.8612\n",
            "Epoch 86/250\n",
            "25/25 [==============================] - 0s 2ms/step - loss: 0.5267 - accuracy: 0.8775\n",
            "Epoch 87/250\n",
            "25/25 [==============================] - 0s 2ms/step - loss: 0.5201 - accuracy: 0.8888\n",
            "Epoch 88/250\n",
            "25/25 [==============================] - 0s 2ms/step - loss: 0.5143 - accuracy: 0.8838\n",
            "Epoch 89/250\n",
            "25/25 [==============================] - 0s 2ms/step - loss: 0.5073 - accuracy: 0.8875\n",
            "Epoch 90/250\n",
            "25/25 [==============================] - 0s 2ms/step - loss: 0.5015 - accuracy: 0.9062\n",
            "Epoch 91/250\n",
            "25/25 [==============================] - 0s 2ms/step - loss: 0.4953 - accuracy: 0.8950\n",
            "Epoch 92/250\n",
            "25/25 [==============================] - 0s 2ms/step - loss: 0.4882 - accuracy: 0.9062\n",
            "Epoch 93/250\n",
            "25/25 [==============================] - 0s 2ms/step - loss: 0.4815 - accuracy: 0.9087\n",
            "Epoch 94/250\n",
            "25/25 [==============================] - 0s 2ms/step - loss: 0.4749 - accuracy: 0.9200\n",
            "Epoch 95/250\n",
            "25/25 [==============================] - 0s 2ms/step - loss: 0.4687 - accuracy: 0.9250\n",
            "Epoch 96/250\n",
            "25/25 [==============================] - 0s 2ms/step - loss: 0.4616 - accuracy: 0.9287\n",
            "Epoch 97/250\n",
            "25/25 [==============================] - 0s 2ms/step - loss: 0.4548 - accuracy: 0.9325\n",
            "Epoch 98/250\n",
            "25/25 [==============================] - 0s 2ms/step - loss: 0.4483 - accuracy: 0.9413\n",
            "Epoch 99/250\n",
            "25/25 [==============================] - 0s 2ms/step - loss: 0.4417 - accuracy: 0.9463\n",
            "Epoch 100/250\n",
            "25/25 [==============================] - 0s 2ms/step - loss: 0.4356 - accuracy: 0.9500\n",
            "Epoch 101/250\n",
            "25/25 [==============================] - 0s 2ms/step - loss: 0.4289 - accuracy: 0.9538\n",
            "Epoch 102/250\n",
            "25/25 [==============================] - 0s 2ms/step - loss: 0.4223 - accuracy: 0.9538\n",
            "Epoch 103/250\n",
            "25/25 [==============================] - 0s 2ms/step - loss: 0.4152 - accuracy: 0.9575\n",
            "Epoch 104/250\n",
            "25/25 [==============================] - 0s 2ms/step - loss: 0.4084 - accuracy: 0.9563\n",
            "Epoch 105/250\n",
            "25/25 [==============================] - 0s 2ms/step - loss: 0.4021 - accuracy: 0.9600\n",
            "Epoch 106/250\n",
            "25/25 [==============================] - 0s 2ms/step - loss: 0.3946 - accuracy: 0.9688\n",
            "Epoch 107/250\n",
            "25/25 [==============================] - 0s 2ms/step - loss: 0.3882 - accuracy: 0.9762\n",
            "Epoch 108/250\n",
            "25/25 [==============================] - 0s 2ms/step - loss: 0.3820 - accuracy: 0.9700\n",
            "Epoch 109/250\n",
            "25/25 [==============================] - 0s 2ms/step - loss: 0.3747 - accuracy: 0.9725\n",
            "Epoch 110/250\n",
            "25/25 [==============================] - 0s 2ms/step - loss: 0.3685 - accuracy: 0.9787\n",
            "Epoch 111/250\n",
            "25/25 [==============================] - 0s 2ms/step - loss: 0.3625 - accuracy: 0.9737\n",
            "Epoch 112/250\n",
            "25/25 [==============================] - 0s 2ms/step - loss: 0.3561 - accuracy: 0.9825\n",
            "Epoch 113/250\n",
            "25/25 [==============================] - 0s 2ms/step - loss: 0.3493 - accuracy: 0.9837\n",
            "Epoch 114/250\n",
            "25/25 [==============================] - 0s 2ms/step - loss: 0.3432 - accuracy: 0.9850\n",
            "Epoch 115/250\n",
            "25/25 [==============================] - 0s 2ms/step - loss: 0.3367 - accuracy: 0.9887\n",
            "Epoch 116/250\n",
            "25/25 [==============================] - 0s 2ms/step - loss: 0.3312 - accuracy: 0.9887\n",
            "Epoch 117/250\n",
            "25/25 [==============================] - 0s 2ms/step - loss: 0.3242 - accuracy: 0.9887\n",
            "Epoch 118/250\n",
            "25/25 [==============================] - 0s 2ms/step - loss: 0.3176 - accuracy: 0.9900\n",
            "Epoch 119/250\n",
            "25/25 [==============================] - 0s 2ms/step - loss: 0.3117 - accuracy: 0.9937\n",
            "Epoch 120/250\n",
            "25/25 [==============================] - 0s 2ms/step - loss: 0.3062 - accuracy: 0.9937\n",
            "Epoch 121/250\n",
            "25/25 [==============================] - 0s 2ms/step - loss: 0.2999 - accuracy: 0.9937\n",
            "Epoch 122/250\n",
            "25/25 [==============================] - 0s 2ms/step - loss: 0.2949 - accuracy: 0.9925\n",
            "Epoch 123/250\n",
            "25/25 [==============================] - 0s 2ms/step - loss: 0.2887 - accuracy: 0.9950\n",
            "Epoch 124/250\n",
            "25/25 [==============================] - 0s 2ms/step - loss: 0.2832 - accuracy: 0.9937\n",
            "Epoch 125/250\n",
            "25/25 [==============================] - 0s 2ms/step - loss: 0.2777 - accuracy: 0.9950\n",
            "Epoch 126/250\n",
            "25/25 [==============================] - 0s 2ms/step - loss: 0.2718 - accuracy: 0.9950\n",
            "Epoch 127/250\n",
            "25/25 [==============================] - 0s 2ms/step - loss: 0.2666 - accuracy: 0.9962\n",
            "Epoch 128/250\n",
            "25/25 [==============================] - 0s 2ms/step - loss: 0.2613 - accuracy: 0.9975\n",
            "Epoch 129/250\n",
            "25/25 [==============================] - 0s 2ms/step - loss: 0.2561 - accuracy: 0.9962\n",
            "Epoch 130/250\n",
            "25/25 [==============================] - 0s 2ms/step - loss: 0.2513 - accuracy: 0.9962\n",
            "Epoch 131/250\n",
            "25/25 [==============================] - 0s 2ms/step - loss: 0.2461 - accuracy: 0.9962\n",
            "Epoch 132/250\n",
            "25/25 [==============================] - 0s 2ms/step - loss: 0.2420 - accuracy: 0.9950\n",
            "Epoch 133/250\n",
            "25/25 [==============================] - 0s 2ms/step - loss: 0.2368 - accuracy: 0.9975\n",
            "Epoch 134/250\n",
            "25/25 [==============================] - 0s 2ms/step - loss: 0.2317 - accuracy: 0.9975\n",
            "Epoch 135/250\n",
            "25/25 [==============================] - 0s 3ms/step - loss: 0.2271 - accuracy: 0.9975\n",
            "Epoch 136/250\n",
            "25/25 [==============================] - 0s 2ms/step - loss: 0.2234 - accuracy: 0.9962\n",
            "Epoch 137/250\n",
            "25/25 [==============================] - 0s 2ms/step - loss: 0.2183 - accuracy: 0.9975\n",
            "Epoch 138/250\n",
            "25/25 [==============================] - 0s 2ms/step - loss: 0.2139 - accuracy: 0.9975\n",
            "Epoch 139/250\n",
            "25/25 [==============================] - 0s 2ms/step - loss: 0.2099 - accuracy: 0.9962\n",
            "Epoch 140/250\n",
            "25/25 [==============================] - 0s 2ms/step - loss: 0.2055 - accuracy: 0.9975\n",
            "Epoch 141/250\n",
            "25/25 [==============================] - 0s 2ms/step - loss: 0.2014 - accuracy: 0.9975\n",
            "Epoch 142/250\n",
            "25/25 [==============================] - 0s 2ms/step - loss: 0.1977 - accuracy: 0.9987\n",
            "Epoch 143/250\n",
            "25/25 [==============================] - 0s 2ms/step - loss: 0.1939 - accuracy: 0.9987\n",
            "Epoch 144/250\n",
            "25/25 [==============================] - 0s 2ms/step - loss: 0.1898 - accuracy: 0.9987\n",
            "Epoch 145/250\n",
            "25/25 [==============================] - 0s 2ms/step - loss: 0.1864 - accuracy: 0.9987\n",
            "Epoch 146/250\n",
            "25/25 [==============================] - 0s 2ms/step - loss: 0.1826 - accuracy: 0.9975\n",
            "Epoch 147/250\n",
            "25/25 [==============================] - 0s 2ms/step - loss: 0.1796 - accuracy: 0.9987\n",
            "Epoch 148/250\n",
            "25/25 [==============================] - 0s 2ms/step - loss: 0.1762 - accuracy: 0.9987\n",
            "Epoch 149/250\n",
            "25/25 [==============================] - 0s 2ms/step - loss: 0.1723 - accuracy: 0.9987\n",
            "Epoch 150/250\n",
            "25/25 [==============================] - 0s 2ms/step - loss: 0.1696 - accuracy: 0.9987\n",
            "Epoch 151/250\n",
            "25/25 [==============================] - 0s 2ms/step - loss: 0.1656 - accuracy: 0.9987\n",
            "Epoch 152/250\n",
            "25/25 [==============================] - 0s 2ms/step - loss: 0.1631 - accuracy: 0.9987\n",
            "Epoch 153/250\n",
            "25/25 [==============================] - 0s 2ms/step - loss: 0.1599 - accuracy: 0.9987\n",
            "Epoch 154/250\n",
            "25/25 [==============================] - 0s 2ms/step - loss: 0.1572 - accuracy: 0.9975\n",
            "Epoch 155/250\n",
            "25/25 [==============================] - 0s 2ms/step - loss: 0.1533 - accuracy: 0.9987\n",
            "Epoch 156/250\n",
            "25/25 [==============================] - 0s 2ms/step - loss: 0.1508 - accuracy: 0.9987\n",
            "Epoch 157/250\n",
            "25/25 [==============================] - 0s 2ms/step - loss: 0.1481 - accuracy: 0.9987\n",
            "Epoch 158/250\n",
            "25/25 [==============================] - 0s 2ms/step - loss: 0.1455 - accuracy: 0.9987\n",
            "Epoch 159/250\n",
            "25/25 [==============================] - 0s 2ms/step - loss: 0.1425 - accuracy: 0.9987\n",
            "Epoch 160/250\n",
            "25/25 [==============================] - 0s 2ms/step - loss: 0.1401 - accuracy: 0.9987\n",
            "Epoch 161/250\n",
            "25/25 [==============================] - 0s 2ms/step - loss: 0.1374 - accuracy: 0.9987\n",
            "Epoch 162/250\n",
            "25/25 [==============================] - 0s 2ms/step - loss: 0.1349 - accuracy: 0.9987\n",
            "Epoch 163/250\n",
            "25/25 [==============================] - 0s 2ms/step - loss: 0.1326 - accuracy: 0.9987\n",
            "Epoch 164/250\n",
            "25/25 [==============================] - 0s 2ms/step - loss: 0.1302 - accuracy: 0.9987\n",
            "Epoch 165/250\n",
            "25/25 [==============================] - 0s 2ms/step - loss: 0.1278 - accuracy: 0.9987\n",
            "Epoch 166/250\n",
            "25/25 [==============================] - 0s 2ms/step - loss: 0.1264 - accuracy: 0.9987\n",
            "Epoch 167/250\n",
            "25/25 [==============================] - 0s 2ms/step - loss: 0.1243 - accuracy: 0.9987\n",
            "Epoch 168/250\n",
            "25/25 [==============================] - 0s 2ms/step - loss: 0.1218 - accuracy: 0.9987\n",
            "Epoch 169/250\n",
            "25/25 [==============================] - 0s 2ms/step - loss: 0.1196 - accuracy: 0.9987\n",
            "Epoch 170/250\n",
            "25/25 [==============================] - 0s 2ms/step - loss: 0.1176 - accuracy: 0.9987\n",
            "Epoch 171/250\n",
            "25/25 [==============================] - 0s 2ms/step - loss: 0.1155 - accuracy: 0.9987\n",
            "Epoch 172/250\n",
            "25/25 [==============================] - 0s 2ms/step - loss: 0.1134 - accuracy: 0.9987\n",
            "Epoch 173/250\n",
            "25/25 [==============================] - 0s 2ms/step - loss: 0.1116 - accuracy: 0.9987\n",
            "Epoch 174/250\n",
            "25/25 [==============================] - 0s 2ms/step - loss: 0.1096 - accuracy: 0.9987\n",
            "Epoch 175/250\n",
            "25/25 [==============================] - 0s 2ms/step - loss: 0.1080 - accuracy: 0.9987\n",
            "Epoch 176/250\n",
            "25/25 [==============================] - 0s 2ms/step - loss: 0.1062 - accuracy: 0.9987\n",
            "Epoch 177/250\n",
            "25/25 [==============================] - 0s 2ms/step - loss: 0.1046 - accuracy: 0.9987\n",
            "Epoch 178/250\n",
            "25/25 [==============================] - 0s 2ms/step - loss: 0.1032 - accuracy: 0.9987\n",
            "Epoch 179/250\n",
            "25/25 [==============================] - 0s 2ms/step - loss: 0.1013 - accuracy: 0.9987\n",
            "Epoch 180/250\n",
            "25/25 [==============================] - 0s 2ms/step - loss: 0.0998 - accuracy: 0.9987\n",
            "Epoch 181/250\n",
            "25/25 [==============================] - 0s 2ms/step - loss: 0.0984 - accuracy: 0.9987\n",
            "Epoch 182/250\n",
            "25/25 [==============================] - 0s 2ms/step - loss: 0.0968 - accuracy: 0.9987\n",
            "Epoch 183/250\n",
            "25/25 [==============================] - 0s 2ms/step - loss: 0.0953 - accuracy: 0.9987\n",
            "Epoch 184/250\n",
            "25/25 [==============================] - 0s 2ms/step - loss: 0.0938 - accuracy: 0.9987\n",
            "Epoch 185/250\n",
            "25/25 [==============================] - 0s 2ms/step - loss: 0.0926 - accuracy: 0.9987\n",
            "Epoch 186/250\n",
            "25/25 [==============================] - 0s 2ms/step - loss: 0.0908 - accuracy: 0.9987\n",
            "Epoch 187/250\n",
            "25/25 [==============================] - 0s 2ms/step - loss: 0.0897 - accuracy: 0.9987\n",
            "Epoch 188/250\n",
            "25/25 [==============================] - 0s 2ms/step - loss: 0.0883 - accuracy: 0.9987\n",
            "Epoch 189/250\n",
            "25/25 [==============================] - 0s 2ms/step - loss: 0.0871 - accuracy: 0.9987\n",
            "Epoch 190/250\n",
            "25/25 [==============================] - 0s 2ms/step - loss: 0.0857 - accuracy: 0.9987\n",
            "Epoch 191/250\n",
            "25/25 [==============================] - 0s 2ms/step - loss: 0.0842 - accuracy: 0.9987\n",
            "Epoch 192/250\n",
            "25/25 [==============================] - 0s 2ms/step - loss: 0.0833 - accuracy: 0.9987\n",
            "Epoch 193/250\n",
            "25/25 [==============================] - 0s 2ms/step - loss: 0.0821 - accuracy: 0.9987\n",
            "Epoch 194/250\n",
            "25/25 [==============================] - 0s 2ms/step - loss: 0.0813 - accuracy: 0.9987\n",
            "Epoch 195/250\n",
            "25/25 [==============================] - 0s 2ms/step - loss: 0.0799 - accuracy: 0.9987\n",
            "Epoch 196/250\n",
            "25/25 [==============================] - 0s 2ms/step - loss: 0.0784 - accuracy: 0.9987\n",
            "Epoch 197/250\n",
            "25/25 [==============================] - 0s 2ms/step - loss: 0.0772 - accuracy: 0.9987\n",
            "Epoch 198/250\n",
            "25/25 [==============================] - 0s 2ms/step - loss: 0.0763 - accuracy: 0.9987\n",
            "Epoch 199/250\n",
            "25/25 [==============================] - 0s 2ms/step - loss: 0.0753 - accuracy: 0.9987\n",
            "Epoch 200/250\n",
            "25/25 [==============================] - 0s 2ms/step - loss: 0.0743 - accuracy: 0.9987\n",
            "Epoch 201/250\n",
            "25/25 [==============================] - 0s 2ms/step - loss: 0.0734 - accuracy: 0.9987\n",
            "Epoch 202/250\n",
            "25/25 [==============================] - 0s 2ms/step - loss: 0.0725 - accuracy: 0.9987\n",
            "Epoch 203/250\n",
            "25/25 [==============================] - 0s 2ms/step - loss: 0.0721 - accuracy: 0.9987\n",
            "Epoch 204/250\n",
            "25/25 [==============================] - 0s 2ms/step - loss: 0.0702 - accuracy: 0.9987\n",
            "Epoch 205/250\n",
            "25/25 [==============================] - 0s 2ms/step - loss: 0.0692 - accuracy: 0.9987\n",
            "Epoch 206/250\n",
            "25/25 [==============================] - 0s 2ms/step - loss: 0.0687 - accuracy: 0.9987\n",
            "Epoch 207/250\n",
            "25/25 [==============================] - 0s 2ms/step - loss: 0.0676 - accuracy: 1.0000\n",
            "Epoch 208/250\n",
            "25/25 [==============================] - 0s 2ms/step - loss: 0.0669 - accuracy: 0.9987\n",
            "Epoch 209/250\n",
            "25/25 [==============================] - 0s 2ms/step - loss: 0.0656 - accuracy: 0.9987\n",
            "Epoch 210/250\n",
            "25/25 [==============================] - 0s 2ms/step - loss: 0.0647 - accuracy: 0.9987\n",
            "Epoch 211/250\n",
            "25/25 [==============================] - 0s 2ms/step - loss: 0.0643 - accuracy: 0.9987\n",
            "Epoch 212/250\n",
            "25/25 [==============================] - 0s 2ms/step - loss: 0.0632 - accuracy: 0.9987\n",
            "Epoch 213/250\n",
            "25/25 [==============================] - 0s 2ms/step - loss: 0.0623 - accuracy: 0.9987\n",
            "Epoch 214/250\n",
            "25/25 [==============================] - 0s 2ms/step - loss: 0.0616 - accuracy: 1.0000\n",
            "Epoch 215/250\n",
            "25/25 [==============================] - 0s 2ms/step - loss: 0.0609 - accuracy: 0.9987\n",
            "Epoch 216/250\n",
            "25/25 [==============================] - 0s 2ms/step - loss: 0.0599 - accuracy: 0.9987\n",
            "Epoch 217/250\n",
            "25/25 [==============================] - 0s 2ms/step - loss: 0.0591 - accuracy: 0.9987\n",
            "Epoch 218/250\n",
            "25/25 [==============================] - 0s 2ms/step - loss: 0.0584 - accuracy: 0.9987\n",
            "Epoch 219/250\n",
            "25/25 [==============================] - 0s 2ms/step - loss: 0.0580 - accuracy: 0.9987\n",
            "Epoch 220/250\n",
            "25/25 [==============================] - 0s 2ms/step - loss: 0.0572 - accuracy: 0.9987\n",
            "Epoch 221/250\n",
            "25/25 [==============================] - 0s 2ms/step - loss: 0.0563 - accuracy: 0.9987\n",
            "Epoch 222/250\n",
            "25/25 [==============================] - 0s 2ms/step - loss: 0.0555 - accuracy: 0.9987\n",
            "Epoch 223/250\n",
            "25/25 [==============================] - 0s 2ms/step - loss: 0.0552 - accuracy: 0.9987\n",
            "Epoch 224/250\n",
            "25/25 [==============================] - 0s 2ms/step - loss: 0.0545 - accuracy: 0.9987\n",
            "Epoch 225/250\n",
            "25/25 [==============================] - 0s 2ms/step - loss: 0.0539 - accuracy: 0.9987\n",
            "Epoch 226/250\n",
            "25/25 [==============================] - 0s 2ms/step - loss: 0.0530 - accuracy: 0.9987\n",
            "Epoch 227/250\n",
            "25/25 [==============================] - 0s 2ms/step - loss: 0.0527 - accuracy: 0.9987\n",
            "Epoch 228/250\n",
            "25/25 [==============================] - 0s 2ms/step - loss: 0.0521 - accuracy: 0.9987\n",
            "Epoch 229/250\n",
            "25/25 [==============================] - 0s 2ms/step - loss: 0.0509 - accuracy: 1.0000\n",
            "Epoch 230/250\n",
            "25/25 [==============================] - 0s 2ms/step - loss: 0.0504 - accuracy: 0.9987\n",
            "Epoch 231/250\n",
            "25/25 [==============================] - 0s 2ms/step - loss: 0.0498 - accuracy: 1.0000\n",
            "Epoch 232/250\n",
            "25/25 [==============================] - 0s 2ms/step - loss: 0.0492 - accuracy: 0.9987\n",
            "Epoch 233/250\n",
            "25/25 [==============================] - 0s 2ms/step - loss: 0.0488 - accuracy: 0.9987\n",
            "Epoch 234/250\n",
            "25/25 [==============================] - 0s 2ms/step - loss: 0.0484 - accuracy: 0.9987\n",
            "Epoch 235/250\n",
            "25/25 [==============================] - 0s 2ms/step - loss: 0.0477 - accuracy: 1.0000\n",
            "Epoch 236/250\n",
            "25/25 [==============================] - 0s 2ms/step - loss: 0.0470 - accuracy: 1.0000\n",
            "Epoch 237/250\n",
            "25/25 [==============================] - 0s 2ms/step - loss: 0.0466 - accuracy: 0.9987\n",
            "Epoch 238/250\n",
            "25/25 [==============================] - 0s 2ms/step - loss: 0.0461 - accuracy: 0.9987\n",
            "Epoch 239/250\n",
            "25/25 [==============================] - 0s 2ms/step - loss: 0.0456 - accuracy: 1.0000\n",
            "Epoch 240/250\n",
            "25/25 [==============================] - 0s 2ms/step - loss: 0.0451 - accuracy: 1.0000\n",
            "Epoch 241/250\n",
            "25/25 [==============================] - 0s 2ms/step - loss: 0.0445 - accuracy: 1.0000\n",
            "Epoch 242/250\n",
            "25/25 [==============================] - 0s 2ms/step - loss: 0.0441 - accuracy: 0.9987\n",
            "Epoch 243/250\n",
            "25/25 [==============================] - 0s 2ms/step - loss: 0.0435 - accuracy: 0.9987\n",
            "Epoch 244/250\n",
            "25/25 [==============================] - 0s 2ms/step - loss: 0.0430 - accuracy: 0.9987\n",
            "Epoch 245/250\n",
            "25/25 [==============================] - 0s 2ms/step - loss: 0.0426 - accuracy: 1.0000\n",
            "Epoch 246/250\n",
            "25/25 [==============================] - 0s 2ms/step - loss: 0.0420 - accuracy: 1.0000\n",
            "Epoch 247/250\n",
            "25/25 [==============================] - 0s 2ms/step - loss: 0.0417 - accuracy: 0.9987\n",
            "Epoch 248/250\n",
            "25/25 [==============================] - 0s 2ms/step - loss: 0.0413 - accuracy: 0.9987\n",
            "Epoch 249/250\n",
            "25/25 [==============================] - 0s 2ms/step - loss: 0.0407 - accuracy: 0.9987\n",
            "Epoch 250/250\n",
            "25/25 [==============================] - 0s 2ms/step - loss: 0.0403 - accuracy: 0.9987\n"
          ]
        }
      ],
      "source": [
        "# recreating a model to fit on the training data and to evaluate on test data\n",
        "\n",
        "tf.random.set_seed(42)\n",
        "\n",
        "\n",
        "model_8 = tf.keras.Sequential([\n",
        "\n",
        "    tf.keras.layers.Dense(4,activation = \"relu\"),\n",
        "    tf.keras.layers.Dense(4,activation = \"relu\"),\n",
        "    tf.keras.layers.Dense(1,activation=\"sigmoid\")\n",
        "])\n",
        "\n",
        "\n",
        "\n",
        "model_8.compile(loss =\"binary_crossentropy\",\n",
        "optimizer = tf.keras.optimizers.Adam(learning_rate=0.001),\n",
        "metrics = [\"accuracy\"])\n",
        "\n",
        "\n",
        "history = model_8.fit(x_train,y_train,epochs=250)"
      ]
    },
    {
      "cell_type": "code",
      "execution_count": 53,
      "metadata": {
        "id": "zfJh1w7clPzx",
        "outputId": "7843665a-7326-45f3-d00f-2ce2655e9193",
        "colab": {
          "base_uri": "https://localhost:8080/"
        }
      },
      "outputs": [
        {
          "output_type": "stream",
          "name": "stdout",
          "text": [
            "7/7 [==============================] - 0s 2ms/step - loss: 0.0496 - accuracy: 1.0000\n"
          ]
        },
        {
          "output_type": "execute_result",
          "data": {
            "text/plain": [
              "[0.049623169004917145, 1.0]"
            ]
          },
          "metadata": {},
          "execution_count": 53
        }
      ],
      "source": [
        "model_8.evaluate(x_test,y_test)"
      ]
    },
    {
      "cell_type": "code",
      "execution_count": 54,
      "metadata": {
        "id": "WgxtK0WvlPzy",
        "outputId": "89bd34f3-36a5-42ff-87b3-522419cfc6c5",
        "colab": {
          "base_uri": "https://localhost:8080/",
          "height": 0
        }
      },
      "outputs": [
        {
          "output_type": "stream",
          "name": "stdout",
          "text": [
            "313/313 [==============================] - 0s 1ms/step\n",
            "doing binary classifcation...\n"
          ]
        },
        {
          "output_type": "display_data",
          "data": {
            "text/plain": [
              "<Figure size 432x288 with 1 Axes>"
            ],
            "image/png": "[encoded data removed]"
          },
          "metadata": {
            "needs_background": "light"
          }
        }
      ],
      "source": [
        "plot_decision_boundary(model_8,x_test,y_test)"
      ]
    },
    {
      "cell_type": "markdown",
      "metadata": {
        "id": "6uptL2GHlPzz"
      },
      "source": [
        "##### Plotting loss curves"
      ]
    },
    {
      "cell_type": "code",
      "execution_count": 55,
      "metadata": {
        "id": "EE41pOzElPzz",
        "outputId": "f4d9d301-3ab7-45d1-b7db-085bc34ec27e",
        "colab": {
          "base_uri": "https://localhost:8080/",
          "height": 0
        }
      },
      "outputs": [
        {
          "output_type": "display_data",
          "data": {
            "text/plain": [
              "<Figure size 432x288 with 1 Axes>"
            ],
            "image/png": "[encoded data removed]"
          },
          "metadata": {
            "needs_background": "light"
          }
        }
      ],
      "source": [
        "pd.DataFrame(history.history).plot()\n",
        "plt.title(\"Model 8 loss curves\");"
      ]
    },
    {
      "cell_type": "markdown",
      "metadata": {
        "id": "pKD3x-fWlPzz"
      },
      "source": [
        "#### Finding the best learning rate"
      ]
    },
    {
      "cell_type": "code",
      "execution_count": 56,
      "metadata": {
        "id": "oYgEMuBulPz0",
        "outputId": "22b809c9-144a-4bae-8e9b-3819e8fc83e3",
        "colab": {
          "base_uri": "https://localhost:8080/"
        }
      },
      "outputs": [
        {
          "output_type": "stream",
          "name": "stdout",
          "text": [
            "Epoch 1/100\n",
            "25/25 [==============================] - 1s 2ms/step - loss: 0.6911 - accuracy: 0.5050 - lr: 1.0000e-04\n",
            "Epoch 2/100\n",
            "25/25 [==============================] - 0s 2ms/step - loss: 0.6905 - accuracy: 0.5063 - lr: 1.1220e-04\n",
            "Epoch 3/100\n",
            "25/25 [==============================] - 0s 2ms/step - loss: 0.6899 - accuracy: 0.5050 - lr: 1.2589e-04\n",
            "Epoch 4/100\n",
            "25/25 [==============================] - 0s 2ms/step - loss: 0.6893 - accuracy: 0.5088 - lr: 1.4125e-04\n",
            "Epoch 5/100\n",
            "25/25 [==============================] - 0s 2ms/step - loss: 0.6886 - accuracy: 0.5125 - lr: 1.5849e-04\n",
            "Epoch 6/100\n",
            "25/25 [==============================] - 0s 2ms/step - loss: 0.6879 - accuracy: 0.5125 - lr: 1.7783e-04\n",
            "Epoch 7/100\n",
            "25/25 [==============================] - 0s 2ms/step - loss: 0.6873 - accuracy: 0.5075 - lr: 1.9953e-04\n",
            "Epoch 8/100\n",
            "25/25 [==============================] - 0s 2ms/step - loss: 0.6865 - accuracy: 0.5113 - lr: 2.2387e-04\n",
            "Epoch 9/100\n",
            "25/25 [==============================] - 0s 2ms/step - loss: 0.6857 - accuracy: 0.5150 - lr: 2.5119e-04\n",
            "Epoch 10/100\n",
            "25/25 [==============================] - 0s 2ms/step - loss: 0.6850 - accuracy: 0.5150 - lr: 2.8184e-04\n",
            "Epoch 11/100\n",
            "25/25 [==============================] - 0s 2ms/step - loss: 0.6843 - accuracy: 0.5312 - lr: 3.1623e-04\n",
            "Epoch 12/100\n",
            "25/25 [==============================] - 0s 2ms/step - loss: 0.6837 - accuracy: 0.5350 - lr: 3.5481e-04\n",
            "Epoch 13/100\n",
            "25/25 [==============================] - 0s 2ms/step - loss: 0.6831 - accuracy: 0.5288 - lr: 3.9811e-04\n",
            "Epoch 14/100\n",
            "25/25 [==============================] - 0s 2ms/step - loss: 0.6825 - accuracy: 0.5225 - lr: 4.4668e-04\n",
            "Epoch 15/100\n",
            "25/25 [==============================] - 0s 2ms/step - loss: 0.6820 - accuracy: 0.5362 - lr: 5.0119e-04\n",
            "Epoch 16/100\n",
            "25/25 [==============================] - 0s 2ms/step - loss: 0.6814 - accuracy: 0.5300 - lr: 5.6234e-04\n",
            "Epoch 17/100\n",
            "25/25 [==============================] - 0s 2ms/step - loss: 0.6809 - accuracy: 0.5263 - lr: 6.3096e-04\n",
            "Epoch 18/100\n",
            "25/25 [==============================] - 0s 2ms/step - loss: 0.6806 - accuracy: 0.5263 - lr: 7.0795e-04\n",
            "Epoch 19/100\n",
            "25/25 [==============================] - 0s 2ms/step - loss: 0.6801 - accuracy: 0.5337 - lr: 7.9433e-04\n",
            "Epoch 20/100\n",
            "25/25 [==============================] - 0s 2ms/step - loss: 0.6796 - accuracy: 0.5375 - lr: 8.9125e-04\n",
            "Epoch 21/100\n",
            "25/25 [==============================] - 0s 2ms/step - loss: 0.6793 - accuracy: 0.5387 - lr: 0.0010\n",
            "Epoch 22/100\n",
            "25/25 [==============================] - 0s 2ms/step - loss: 0.6787 - accuracy: 0.5350 - lr: 0.0011\n",
            "Epoch 23/100\n",
            "25/25 [==============================] - 0s 2ms/step - loss: 0.6783 - accuracy: 0.5425 - lr: 0.0013\n",
            "Epoch 24/100\n",
            "25/25 [==============================] - 0s 2ms/step - loss: 0.6779 - accuracy: 0.5387 - lr: 0.0014\n",
            "Epoch 25/100\n",
            "25/25 [==============================] - 0s 2ms/step - loss: 0.6770 - accuracy: 0.5462 - lr: 0.0016\n",
            "Epoch 26/100\n",
            "25/25 [==============================] - 0s 2ms/step - loss: 0.6764 - accuracy: 0.5475 - lr: 0.0018\n",
            "Epoch 27/100\n",
            "25/25 [==============================] - 0s 2ms/step - loss: 0.6757 - accuracy: 0.5462 - lr: 0.0020\n",
            "Epoch 28/100\n",
            "25/25 [==============================] - 0s 2ms/step - loss: 0.6747 - accuracy: 0.5550 - lr: 0.0022\n",
            "Epoch 29/100\n",
            "25/25 [==============================] - 0s 2ms/step - loss: 0.6740 - accuracy: 0.5487 - lr: 0.0025\n",
            "Epoch 30/100\n",
            "25/25 [==============================] - 0s 2ms/step - loss: 0.6726 - accuracy: 0.5500 - lr: 0.0028\n",
            "Epoch 31/100\n",
            "25/25 [==============================] - 0s 2ms/step - loss: 0.6713 - accuracy: 0.5500 - lr: 0.0032\n",
            "Epoch 32/100\n",
            "25/25 [==============================] - 0s 2ms/step - loss: 0.6694 - accuracy: 0.5612 - lr: 0.0035\n",
            "Epoch 33/100\n",
            "25/25 [==============================] - 0s 2ms/step - loss: 0.6679 - accuracy: 0.5600 - lr: 0.0040\n",
            "Epoch 34/100\n",
            "25/25 [==============================] - 0s 2ms/step - loss: 0.6668 - accuracy: 0.5688 - lr: 0.0045\n",
            "Epoch 35/100\n",
            "25/25 [==============================] - 0s 2ms/step - loss: 0.6642 - accuracy: 0.5863 - lr: 0.0050\n",
            "Epoch 36/100\n",
            "25/25 [==============================] - 0s 2ms/step - loss: 0.6595 - accuracy: 0.5925 - lr: 0.0056\n",
            "Epoch 37/100\n",
            "25/25 [==============================] - 0s 2ms/step - loss: 0.6496 - accuracy: 0.6112 - lr: 0.0063\n",
            "Epoch 38/100\n",
            "25/25 [==============================] - 0s 2ms/step - loss: 0.6383 - accuracy: 0.6513 - lr: 0.0071\n",
            "Epoch 39/100\n",
            "25/25 [==============================] - 0s 2ms/step - loss: 0.6217 - accuracy: 0.7013 - lr: 0.0079\n",
            "Epoch 40/100\n",
            "25/25 [==============================] - 0s 2ms/step - loss: 0.5869 - accuracy: 0.7362 - lr: 0.0089\n",
            "Epoch 41/100\n",
            "25/25 [==============================] - 0s 2ms/step - loss: 0.5368 - accuracy: 0.8075 - lr: 0.0100\n",
            "Epoch 42/100\n",
            "25/25 [==============================] - 0s 2ms/step - loss: 0.4469 - accuracy: 0.9075 - lr: 0.0112\n",
            "Epoch 43/100\n",
            "25/25 [==============================] - 0s 2ms/step - loss: 0.3386 - accuracy: 0.9475 - lr: 0.0126\n",
            "Epoch 44/100\n",
            "25/25 [==============================] - 0s 2ms/step - loss: 0.2616 - accuracy: 0.9463 - lr: 0.0141\n",
            "Epoch 45/100\n",
            "25/25 [==============================] - 0s 2ms/step - loss: 0.1645 - accuracy: 0.9800 - lr: 0.0158\n",
            "Epoch 46/100\n",
            "25/25 [==============================] - 0s 2ms/step - loss: 0.1069 - accuracy: 0.9975 - lr: 0.0178\n",
            "Epoch 47/100\n",
            "25/25 [==============================] - 0s 2ms/step - loss: 0.0819 - accuracy: 0.9937 - lr: 0.0200\n",
            "Epoch 48/100\n",
            "25/25 [==============================] - 0s 2ms/step - loss: 0.0658 - accuracy: 0.9912 - lr: 0.0224\n",
            "Epoch 49/100\n",
            "25/25 [==============================] - 0s 2ms/step - loss: 0.0625 - accuracy: 0.9900 - lr: 0.0251\n",
            "Epoch 50/100\n",
            "25/25 [==============================] - 0s 2ms/step - loss: 0.0448 - accuracy: 0.9962 - lr: 0.0282\n",
            "Epoch 51/100\n",
            "25/25 [==============================] - 0s 2ms/step - loss: 0.0506 - accuracy: 0.9875 - lr: 0.0316\n",
            "Epoch 52/100\n",
            "25/25 [==============================] - 0s 2ms/step - loss: 0.0432 - accuracy: 0.9925 - lr: 0.0355\n",
            "Epoch 53/100\n",
            "25/25 [==============================] - 0s 2ms/step - loss: 0.0782 - accuracy: 0.9712 - lr: 0.0398\n",
            "Epoch 54/100\n",
            "25/25 [==============================] - 0s 2ms/step - loss: 0.0665 - accuracy: 0.9800 - lr: 0.0447\n",
            "Epoch 55/100\n",
            "25/25 [==============================] - 0s 2ms/step - loss: 0.0772 - accuracy: 0.9712 - lr: 0.0501\n",
            "Epoch 56/100\n",
            "25/25 [==============================] - 0s 2ms/step - loss: 0.1339 - accuracy: 0.9450 - lr: 0.0562\n",
            "Epoch 57/100\n",
            "25/25 [==============================] - 0s 2ms/step - loss: 0.2312 - accuracy: 0.9137 - lr: 0.0631\n",
            "Epoch 58/100\n",
            "25/25 [==============================] - 0s 2ms/step - loss: 0.0838 - accuracy: 0.9725 - lr: 0.0708\n",
            "Epoch 59/100\n",
            "25/25 [==============================] - 0s 2ms/step - loss: 0.0843 - accuracy: 0.9663 - lr: 0.0794\n",
            "Epoch 60/100\n",
            "25/25 [==============================] - 0s 2ms/step - loss: 0.1487 - accuracy: 0.9513 - lr: 0.0891\n",
            "Epoch 61/100\n",
            "25/25 [==============================] - 0s 2ms/step - loss: 0.0675 - accuracy: 0.9812 - lr: 0.1000\n",
            "Epoch 62/100\n",
            "25/25 [==============================] - 0s 2ms/step - loss: 0.0210 - accuracy: 0.9962 - lr: 0.1122\n",
            "Epoch 63/100\n",
            "25/25 [==============================] - 0s 2ms/step - loss: 0.0300 - accuracy: 0.9912 - lr: 0.1259\n",
            "Epoch 64/100\n",
            "25/25 [==============================] - 0s 2ms/step - loss: 0.2069 - accuracy: 0.9300 - lr: 0.1413\n",
            "Epoch 65/100\n",
            "25/25 [==============================] - 0s 2ms/step - loss: 0.1238 - accuracy: 0.9538 - lr: 0.1585\n",
            "Epoch 66/100\n",
            "25/25 [==============================] - 0s 2ms/step - loss: 0.0869 - accuracy: 0.9737 - lr: 0.1778\n",
            "Epoch 67/100\n",
            "25/25 [==============================] - 0s 2ms/step - loss: 0.0720 - accuracy: 0.9762 - lr: 0.1995\n",
            "Epoch 68/100\n",
            "25/25 [==============================] - 0s 2ms/step - loss: 0.1250 - accuracy: 0.9450 - lr: 0.2239\n",
            "Epoch 69/100\n",
            "25/25 [==============================] - 0s 2ms/step - loss: 0.1625 - accuracy: 0.9312 - lr: 0.2512\n",
            "Epoch 70/100\n",
            "25/25 [==============================] - 0s 2ms/step - loss: 0.4286 - accuracy: 0.8175 - lr: 0.2818\n",
            "Epoch 71/100\n",
            "25/25 [==============================] - 0s 2ms/step - loss: 0.2104 - accuracy: 0.9150 - lr: 0.3162\n",
            "Epoch 72/100\n",
            "25/25 [==============================] - 0s 2ms/step - loss: 0.3260 - accuracy: 0.8763 - lr: 0.3548\n",
            "Epoch 73/100\n",
            "25/25 [==============================] - 0s 2ms/step - loss: 0.7298 - accuracy: 0.6338 - lr: 0.3981\n",
            "Epoch 74/100\n",
            "25/25 [==============================] - 0s 2ms/step - loss: 0.5466 - accuracy: 0.7212 - lr: 0.4467\n",
            "Epoch 75/100\n",
            "25/25 [==============================] - 0s 2ms/step - loss: 0.5572 - accuracy: 0.6662 - lr: 0.5012\n",
            "Epoch 76/100\n",
            "25/25 [==============================] - 0s 2ms/step - loss: 0.4819 - accuracy: 0.7425 - lr: 0.5623\n",
            "Epoch 77/100\n",
            "25/25 [==============================] - 0s 2ms/step - loss: 0.5572 - accuracy: 0.7175 - lr: 0.6310\n",
            "Epoch 78/100\n",
            "25/25 [==============================] - 0s 2ms/step - loss: 0.5941 - accuracy: 0.6313 - lr: 0.7079\n",
            "Epoch 79/100\n",
            "25/25 [==============================] - 0s 2ms/step - loss: 0.6083 - accuracy: 0.7125 - lr: 0.7943\n",
            "Epoch 80/100\n",
            "25/25 [==============================] - 0s 2ms/step - loss: 0.6117 - accuracy: 0.6675 - lr: 0.8913\n",
            "Epoch 81/100\n",
            "25/25 [==============================] - 0s 2ms/step - loss: 0.5800 - accuracy: 0.7125 - lr: 1.0000\n",
            "Epoch 82/100\n",
            "25/25 [==============================] - 0s 2ms/step - loss: 0.7852 - accuracy: 0.5788 - lr: 1.1220\n",
            "Epoch 83/100\n",
            "25/25 [==============================] - 0s 2ms/step - loss: 0.7781 - accuracy: 0.4938 - lr: 1.2589\n",
            "Epoch 84/100\n",
            "25/25 [==============================] - 0s 2ms/step - loss: 0.7143 - accuracy: 0.5013 - lr: 1.4125\n",
            "Epoch 85/100\n",
            "25/25 [==============================] - 0s 2ms/step - loss: 0.7378 - accuracy: 0.4888 - lr: 1.5849\n",
            "Epoch 86/100\n",
            "25/25 [==============================] - 0s 2ms/step - loss: 0.7065 - accuracy: 0.4938 - lr: 1.7783\n",
            "Epoch 87/100\n",
            "25/25 [==============================] - 0s 2ms/step - loss: 0.7003 - accuracy: 0.5013 - lr: 1.9953\n",
            "Epoch 88/100\n",
            "25/25 [==============================] - 0s 2ms/step - loss: 0.7158 - accuracy: 0.4863 - lr: 2.2387\n",
            "Epoch 89/100\n",
            "25/25 [==============================] - 0s 2ms/step - loss: 0.7149 - accuracy: 0.4863 - lr: 2.5119\n",
            "Epoch 90/100\n",
            "25/25 [==============================] - 0s 2ms/step - loss: 0.7246 - accuracy: 0.5188 - lr: 2.8184\n",
            "Epoch 91/100\n",
            "25/25 [==============================] - 0s 2ms/step - loss: 0.7472 - accuracy: 0.5113 - lr: 3.1623\n",
            "Epoch 92/100\n",
            "25/25 [==============================] - 0s 2ms/step - loss: 0.7480 - accuracy: 0.4688 - lr: 3.5481\n",
            "Epoch 93/100\n",
            "25/25 [==============================] - 0s 2ms/step - loss: 0.7568 - accuracy: 0.5088 - lr: 3.9811\n",
            "Epoch 94/100\n",
            "25/25 [==============================] - 0s 2ms/step - loss: 0.7826 - accuracy: 0.5013 - lr: 4.4668\n",
            "Epoch 95/100\n",
            "25/25 [==============================] - 0s 2ms/step - loss: 0.8547 - accuracy: 0.5138 - lr: 5.0119\n",
            "Epoch 96/100\n",
            "25/25 [==============================] - 0s 2ms/step - loss: 0.7893 - accuracy: 0.5163 - lr: 5.6234\n",
            "Epoch 97/100\n",
            "25/25 [==============================] - 0s 2ms/step - loss: 0.9563 - accuracy: 0.4837 - lr: 6.3096\n",
            "Epoch 98/100\n",
            "25/25 [==============================] - 0s 2ms/step - loss: 0.8915 - accuracy: 0.5113 - lr: 7.0795\n",
            "Epoch 99/100\n",
            "25/25 [==============================] - 0s 2ms/step - loss: 1.0297 - accuracy: 0.4938 - lr: 7.9433\n",
            "Epoch 100/100\n",
            "25/25 [==============================] - 0s 2ms/step - loss: 0.8825 - accuracy: 0.5038 - lr: 8.9125\n"
          ]
        }
      ],
      "source": [
        "tf.random.set_seed(42)\n",
        "\n",
        "\n",
        "model_9 = tf.keras.Sequential([\n",
        "\n",
        "    tf.keras.layers.Dense(4,activation =\"relu\"),\n",
        "    tf.keras.layers.Dense(4,activation = \"relu\"),\n",
        "    tf.keras.layers.Dense(1,activation = \"sigmoid\")\n",
        "])\n",
        "\n",
        "\n",
        "model_9.compile(loss = \"binary_crossentropy\",\n",
        "optimizer = \"Adam\",\n",
        "metrics = [\"accuracy\"])\n",
        "\n",
        "lr_scheduler = tf.keras.callbacks.LearningRateScheduler(lambda epoch :1e-4 *  10**(epoch/20))\n",
        "\n",
        "\n",
        "history = model_9.fit(x_train,y_train,epochs=100,callbacks=lr_scheduler)"
      ]
    },
    {
      "cell_type": "code",
      "execution_count": 57,
      "metadata": {
        "id": "C2JKm0lHlPz0",
        "outputId": "f1fd0347-29cb-4f98-8f3c-58218c98ab8b",
        "colab": {
          "base_uri": "https://localhost:8080/",
          "height": 0
        }
      },
      "outputs": [
        {
          "output_type": "display_data",
          "data": {
            "text/plain": [
              "<Figure size 720x504 with 1 Axes>"
            ],
            "image/png": "[encoded data removed]"
          },
          "metadata": {
            "needs_background": "light"
          }
        }
      ],
      "source": [
        "pd.DataFrame(history.history).plot(figsize=(10,7),xlabel=\"epochs\");"
      ]
    },
    {
      "cell_type": "code",
      "execution_count": 58,
      "metadata": {
        "id": "lFtonG2IlP0B",
        "outputId": "eaa50fb2-1c4b-4c9b-a83b-7c2e5c69a7ff",
        "colab": {
          "base_uri": "https://localhost:8080/",
          "height": 0
        }
      },
      "outputs": [
        {
          "output_type": "display_data",
          "data": {
            "text/plain": [
              "<Figure size 720x504 with 1 Axes>"
            ],
            "image/png": "[encoded data removed]"
          },
          "metadata": {
            "needs_background": "light"
          }
        }
      ],
      "source": [
        "lrs = 1e-4 * (10**(tf.range(100)/20))\n",
        "plt.figure(figsize=(10,7))\n",
        "plt.semilogx(lrs,history.history[\"loss\"])\n",
        "plt.xlabel(\"Learning Rate\")\n",
        "plt.ylabel(\"Loss\")\n",
        "plt.title(\"Learning rate vs Loss\");"
      ]
    },
    {
      "cell_type": "markdown",
      "metadata": {
        "id": "4LQxMo0UlP0D"
      },
      "source": [
        "#### Confusion matrix"
      ]
    },
    {
      "cell_type": "code",
      "execution_count": 59,
      "metadata": {
        "id": "b-OuZ-WXlP0H"
      },
      "outputs": [],
      "source": [
        "from sklearn.metrics import confusion_matrix"
      ]
    },
    {
      "cell_type": "code",
      "execution_count": 60,
      "metadata": {
        "id": "PNX4LcO3lP0I",
        "outputId": "f522e8fa-6457-4171-b176-accc1278cd87",
        "colab": {
          "base_uri": "https://localhost:8080/"
        }
      },
      "outputs": [
        {
          "output_type": "stream",
          "name": "stdout",
          "text": [
            "7/7 [==============================] - 0s 2ms/step\n"
          ]
        }
      ],
      "source": [
        "y_preds = model_9.predict(x_test)"
      ]
    },
    {
      "cell_type": "code",
      "execution_count": 61,
      "metadata": {
        "id": "gR2NvIywlP0J",
        "outputId": "3be2944a-b29d-4515-d970-6aed37b2d838",
        "colab": {
          "base_uri": "https://localhost:8080/"
        }
      },
      "outputs": [
        {
          "output_type": "execute_result",
          "data": {
            "text/plain": [
              "array([[0.42632475],\n",
              "       [0.42632475],\n",
              "       [0.42632475],\n",
              "       [0.42632475],\n",
              "       [0.42632475],\n",
              "       [0.42632475],\n",
              "       [0.42632475],\n",
              "       [0.42632475],\n",
              "       [0.42632475],\n",
              "       [0.42632475],\n",
              "       [0.42632475],\n",
              "       [0.42632475],\n",
              "       [0.42632475],\n",
              "       [0.42632475],\n",
              "       [0.42632475],\n",
              "       [0.42632475],\n",
              "       [0.42632475],\n",
              "       [0.42632475],\n",
              "       [0.42632475],\n",
              "       [0.42632475],\n",
              "       [0.42632475],\n",
              "       [0.42632475],\n",
              "       [0.42632475],\n",
              "       [0.42632475],\n",
              "       [0.42632475],\n",
              "       [0.42632475],\n",
              "       [0.42632475],\n",
              "       [0.42632475],\n",
              "       [0.42632475],\n",
              "       [0.42632475],\n",
              "       [0.42632475],\n",
              "       [0.42632475],\n",
              "       [0.42632475],\n",
              "       [0.42632475],\n",
              "       [0.42632475],\n",
              "       [0.42632475],\n",
              "       [0.42632475],\n",
              "       [0.42632475],\n",
              "       [0.42632475],\n",
              "       [0.42632475],\n",
              "       [0.42632475],\n",
              "       [0.42632475],\n",
              "       [0.42632475],\n",
              "       [0.42632475],\n",
              "       [0.42632475],\n",
              "       [0.42632475],\n",
              "       [0.42632475],\n",
              "       [0.42632475],\n",
              "       [0.42632475],\n",
              "       [0.42632475],\n",
              "       [0.42632475],\n",
              "       [0.42632475],\n",
              "       [0.42632475],\n",
              "       [0.42632475],\n",
              "       [0.42632475],\n",
              "       [0.42632475],\n",
              "       [0.42632475],\n",
              "       [0.42632475],\n",
              "       [0.42632475],\n",
              "       [0.42632475],\n",
              "       [0.42632475],\n",
              "       [0.42632475],\n",
              "       [0.42632475],\n",
              "       [0.42632475],\n",
              "       [0.42632475],\n",
              "       [0.42632475],\n",
              "       [0.42632475],\n",
              "       [0.42632475],\n",
              "       [0.42632475],\n",
              "       [0.42632475],\n",
              "       [0.42632475],\n",
              "       [0.42632475],\n",
              "       [0.42632475],\n",
              "       [0.42632475],\n",
              "       [0.42632475],\n",
              "       [0.42632475],\n",
              "       [0.42632475],\n",
              "       [0.42632475],\n",
              "       [0.42632475],\n",
              "       [0.42632475],\n",
              "       [0.42632475],\n",
              "       [0.42632475],\n",
              "       [0.42632475],\n",
              "       [0.42632475],\n",
              "       [0.42632475],\n",
              "       [0.42632475],\n",
              "       [0.42632475],\n",
              "       [0.42632475],\n",
              "       [0.42632475],\n",
              "       [0.42632475],\n",
              "       [0.42632475],\n",
              "       [0.42632475],\n",
              "       [0.42632475],\n",
              "       [0.42632475],\n",
              "       [0.42632475],\n",
              "       [0.42632475],\n",
              "       [0.42632475],\n",
              "       [0.42632475],\n",
              "       [0.42632475],\n",
              "       [0.42632475],\n",
              "       [0.42632475],\n",
              "       [0.42632475],\n",
              "       [0.42632475],\n",
              "       [0.42632475],\n",
              "       [0.42632475],\n",
              "       [0.42632475],\n",
              "       [0.42632475],\n",
              "       [0.42632475],\n",
              "       [0.42632475],\n",
              "       [0.42632475],\n",
              "       [0.42632475],\n",
              "       [0.42632475],\n",
              "       [0.42632475],\n",
              "       [0.42632475],\n",
              "       [0.42632475],\n",
              "       [0.42632475],\n",
              "       [0.42632475],\n",
              "       [0.42632475],\n",
              "       [0.42632475],\n",
              "       [0.42632475],\n",
              "       [0.42632475],\n",
              "       [0.42632475],\n",
              "       [0.42632475],\n",
              "       [0.42632475],\n",
              "       [0.42632475],\n",
              "       [0.42632475],\n",
              "       [0.42632475],\n",
              "       [0.42632475],\n",
              "       [0.42632475],\n",
              "       [0.42632475],\n",
              "       [0.42632475],\n",
              "       [0.42632475],\n",
              "       [0.42632475],\n",
              "       [0.42632475],\n",
              "       [0.42632475],\n",
              "       [0.42632475],\n",
              "       [0.42632475],\n",
              "       [0.42632475],\n",
              "       [0.42632475],\n",
              "       [0.42632475],\n",
              "       [0.42632475],\n",
              "       [0.42632475],\n",
              "       [0.42632475],\n",
              "       [0.42632475],\n",
              "       [0.42632475],\n",
              "       [0.42632475],\n",
              "       [0.42632475],\n",
              "       [0.42632475],\n",
              "       [0.42632475],\n",
              "       [0.42632475],\n",
              "       [0.42632475],\n",
              "       [0.42632475],\n",
              "       [0.42632475],\n",
              "       [0.42632475],\n",
              "       [0.42632475],\n",
              "       [0.42632475],\n",
              "       [0.42632475],\n",
              "       [0.42632475],\n",
              "       [0.42632475],\n",
              "       [0.42632475],\n",
              "       [0.42632475],\n",
              "       [0.42632475],\n",
              "       [0.42632475],\n",
              "       [0.42632475],\n",
              "       [0.42632475],\n",
              "       [0.42632475],\n",
              "       [0.42632475],\n",
              "       [0.42632475],\n",
              "       [0.42632475],\n",
              "       [0.42632475],\n",
              "       [0.42632475],\n",
              "       [0.42632475],\n",
              "       [0.42632475],\n",
              "       [0.42632475],\n",
              "       [0.42632475],\n",
              "       [0.42632475],\n",
              "       [0.42632475],\n",
              "       [0.42632475],\n",
              "       [0.42632475],\n",
              "       [0.42632475],\n",
              "       [0.42632475],\n",
              "       [0.42632475],\n",
              "       [0.42632475],\n",
              "       [0.42632475],\n",
              "       [0.42632475],\n",
              "       [0.42632475],\n",
              "       [0.42632475],\n",
              "       [0.42632475],\n",
              "       [0.42632475],\n",
              "       [0.42632475],\n",
              "       [0.42632475],\n",
              "       [0.42632475],\n",
              "       [0.42632475],\n",
              "       [0.42632475],\n",
              "       [0.42632475],\n",
              "       [0.42632475],\n",
              "       [0.42632475],\n",
              "       [0.42632475],\n",
              "       [0.42632475],\n",
              "       [0.42632475]], dtype=float32)"
            ]
          },
          "metadata": {},
          "execution_count": 61
        }
      ],
      "source": [
        "y_preds"
      ]
    },
    {
      "cell_type": "code",
      "execution_count": 62,
      "metadata": {
        "id": "3uEvitg5lP0J",
        "outputId": "c13f334e-0ada-4f2b-b9bf-77105b6d841a",
        "colab": {
          "base_uri": "https://localhost:8080/",
          "height": 311
        }
      },
      "outputs": [
        {
          "output_type": "error",
          "ename": "ValueError",
          "evalue": "ignored",
          "traceback": [
            "\u001b[0;31m---------------------------------------------------------------------------\u001b[0m",
            "\u001b[0;31mValueError\u001b[0m                                Traceback (most recent call last)",
            "\u001b[0;32m<ipython-input-62-13029e0d8a07>\u001b[0m in \u001b[0;36m<module>\u001b[0;34m\u001b[0m\n\u001b[0;32m----> 1\u001b[0;31m \u001b[0mconfusion_matrix\u001b[0m\u001b[0;34m(\u001b[0m\u001b[0my_test\u001b[0m\u001b[0;34m,\u001b[0m\u001b[0my_preds\u001b[0m\u001b[0;34m)\u001b[0m\u001b[0;34m\u001b[0m\u001b[0;34m\u001b[0m\u001b[0m\n\u001b[0m",
            "\u001b[0;32m/usr/local/lib/python3.7/dist-packages/sklearn/metrics/_classification.py\u001b[0m in \u001b[0;36mconfusion_matrix\u001b[0;34m(y_true, y_pred, labels, sample_weight, normalize)\u001b[0m\n\u001b[1;32m    305\u001b[0m     \u001b[0;34m(\u001b[0m\u001b[0;36m0\u001b[0m\u001b[0;34m,\u001b[0m \u001b[0;36m2\u001b[0m\u001b[0;34m,\u001b[0m \u001b[0;36m1\u001b[0m\u001b[0;34m,\u001b[0m \u001b[0;36m1\u001b[0m\u001b[0;34m)\u001b[0m\u001b[0;34m\u001b[0m\u001b[0;34m\u001b[0m\u001b[0m\n\u001b[1;32m    306\u001b[0m     \"\"\"\n\u001b[0;32m--> 307\u001b[0;31m     \u001b[0my_type\u001b[0m\u001b[0;34m,\u001b[0m \u001b[0my_true\u001b[0m\u001b[0;34m,\u001b[0m \u001b[0my_pred\u001b[0m \u001b[0;34m=\u001b[0m \u001b[0m_check_targets\u001b[0m\u001b[0;34m(\u001b[0m\u001b[0my_true\u001b[0m\u001b[0;34m,\u001b[0m \u001b[0my_pred\u001b[0m\u001b[0;34m)\u001b[0m\u001b[0;34m\u001b[0m\u001b[0;34m\u001b[0m\u001b[0m\n\u001b[0m\u001b[1;32m    308\u001b[0m     \u001b[0;32mif\u001b[0m \u001b[0my_type\u001b[0m \u001b[0;32mnot\u001b[0m \u001b[0;32min\u001b[0m \u001b[0;34m(\u001b[0m\u001b[0;34m\"binary\"\u001b[0m\u001b[0;34m,\u001b[0m \u001b[0;34m\"multiclass\"\u001b[0m\u001b[0;34m)\u001b[0m\u001b[0;34m:\u001b[0m\u001b[0;34m\u001b[0m\u001b[0;34m\u001b[0m\u001b[0m\n\u001b[1;32m    309\u001b[0m         \u001b[0;32mraise\u001b[0m \u001b[0mValueError\u001b[0m\u001b[0;34m(\u001b[0m\u001b[0;34m\"%s is not supported\"\u001b[0m \u001b[0;34m%\u001b[0m \u001b[0my_type\u001b[0m\u001b[0;34m)\u001b[0m\u001b[0;34m\u001b[0m\u001b[0;34m\u001b[0m\u001b[0m\n",
            "\u001b[0;32m/usr/local/lib/python3.7/dist-packages/sklearn/metrics/_classification.py\u001b[0m in \u001b[0;36m_check_targets\u001b[0;34m(y_true, y_pred)\u001b[0m\n\u001b[1;32m     93\u001b[0m         raise ValueError(\n\u001b[1;32m     94\u001b[0m             \"Classification metrics can't handle a mix of {0} and {1} targets\".format(\n\u001b[0;32m---> 95\u001b[0;31m                 \u001b[0mtype_true\u001b[0m\u001b[0;34m,\u001b[0m \u001b[0mtype_pred\u001b[0m\u001b[0;34m\u001b[0m\u001b[0;34m\u001b[0m\u001b[0m\n\u001b[0m\u001b[1;32m     96\u001b[0m             )\n\u001b[1;32m     97\u001b[0m         )\n",
            "\u001b[0;31mValueError\u001b[0m: Classification metrics can't handle a mix of binary and continuous targets"
          ]
        }
      ],
      "source": [
        "confusion_matrix(y_test,y_preds)"
      ]
    },
    {
      "cell_type": "markdown",
      "metadata": {
        "id": "yrhJnlrllP0K"
      },
      "source": [
        "The predictions are in the form of **prediction probability**. Round the probability predictions to either 0 or 1"
      ]
    },
    {
      "cell_type": "code",
      "execution_count": null,
      "metadata": {
        "id": "2C_1xX3FlP0L"
      },
      "outputs": [],
      "source": [
        "tf.round(y_preds)[:10]"
      ]
    },
    {
      "cell_type": "code",
      "execution_count": null,
      "metadata": {
        "id": "-gVRiWEvlP0M"
      },
      "outputs": [],
      "source": [
        "confusion_matrix(y_test,tf.round(y_preds))"
      ]
    },
    {
      "cell_type": "markdown",
      "metadata": {
        "id": "JbKAOsGslP0N"
      },
      "source": [
        "### Working with a larger example"
      ]
    },
    {
      "cell_type": "code",
      "execution_count": null,
      "metadata": {
        "id": "iuL70WHWlP0N"
      },
      "outputs": [],
      "source": [
        "from tensorflow.keras.datasets import fashion_mnist"
      ]
    },
    {
      "cell_type": "code",
      "execution_count": null,
      "metadata": {
        "id": "CyTb_peClP0O"
      },
      "outputs": [],
      "source": [
        "(train_data,train_labels),(test_data,test_labels) = fashion_mnist.load_data()"
      ]
    },
    {
      "cell_type": "code",
      "execution_count": null,
      "metadata": {
        "id": "7olkB099lP0R"
      },
      "outputs": [],
      "source": [
        "# Show first training sample\n",
        "\n",
        "train_data[0]"
      ]
    },
    {
      "cell_type": "code",
      "execution_count": null,
      "metadata": {
        "id": "QoSXEd1-lP0T"
      },
      "outputs": [],
      "source": [
        "# Show training labels\n",
        "\n",
        "train_labels"
      ]
    },
    {
      "cell_type": "code",
      "execution_count": null,
      "metadata": {
        "id": "aKFoL1zqlP0W"
      },
      "outputs": [],
      "source": [
        "#Check the shape of single example\n",
        "\n",
        "train_data[0].shape,train_labels[0].shape"
      ]
    },
    {
      "cell_type": "code",
      "execution_count": null,
      "metadata": {
        "id": "BgJCvt1WlP0Y"
      },
      "outputs": [],
      "source": [
        "# Plot a single sample\n",
        "plt.imshow(train_data[9])"
      ]
    },
    {
      "cell_type": "code",
      "execution_count": null,
      "metadata": {
        "id": "UGN4cdmMlP0Z"
      },
      "outputs": [],
      "source": [
        "train_labels[9]"
      ]
    },
    {
      "cell_type": "code",
      "execution_count": null,
      "metadata": {
        "id": "C7qB9_pylP0a"
      },
      "outputs": [],
      "source": [
        "# Create a small list so we can index our training labels in human readable format\n",
        "\n",
        "class_names = [\"T-shirt/top\",\"Trouser\",\"Pullover\",\"Dress\",\"Coat\",\"Sandal\",\"Shirt\",\"Sneaker\",\"Bag\",\"Ankle boot\"]"
      ]
    },
    {
      "cell_type": "code",
      "execution_count": null,
      "metadata": {
        "id": "-qAwdhm7lP0b"
      },
      "outputs": [],
      "source": [
        "index_of_choice =2002\n",
        "plt.imshow(train_data[index_of_choice],cmap=plt.cm.binary)\n",
        "plt.title(class_names[train_labels[index_of_choice]])"
      ]
    },
    {
      "cell_type": "code",
      "execution_count": null,
      "metadata": {
        "id": "aVxCIcCTlP0b"
      },
      "outputs": [],
      "source": [
        "# Plot mutiple random images of fashion MNIST\n",
        "\n",
        "import random\n",
        "plt.figure(figsize=(10,7))\n",
        "for i in range(4):\n",
        "    ax = plt.subplot(2,2,i+1)\n",
        "    rand_index = random.choice(range(len(train_labels)))\n",
        "    plt.imshow(train_data[rand_index],cmap=plt.cm.binary)\n",
        "    plt.title(class_names[train_labels[rand_index]])\n",
        "    plt.axis(False)\n",
        "\n"
      ]
    },
    {
      "cell_type": "code",
      "execution_count": null,
      "metadata": {
        "id": "E6oQWKhplP0c"
      },
      "outputs": [],
      "source": [
        "# Building a multiclass classification model\n",
        "\n",
        "tf.random.set_seed(42)\n",
        "\n",
        "model = tf.keras.Sequential([\n",
        "    tf.keras.layers.Flatten(input_shape = (28,28)),\n",
        "    tf.keras.layers.Dense(4,activation=\"relu\"),\n",
        "    tf.keras.layers.Dense(4,activation=\"relu\"),\n",
        "    tf.keras.layers.Dense(10,activation=\"softmax\")\n",
        "    \n",
        "])\n",
        "\n",
        "model.compile(loss = \"sparse_categorical_crossentropy\",\n",
        "optimizer = tf.keras.optimizers.Adam(),\n",
        "metrics =[\"accuracy\"])\n",
        "\n",
        "non_norm_history = model.fit(\n",
        "    train_data,train_labels,epochs=10,validation_data = (test_data,test_labels)\n",
        ")"
      ]
    },
    {
      "cell_type": "code",
      "execution_count": null,
      "metadata": {
        "id": "t9C6cGWvlP0d"
      },
      "outputs": [],
      "source": [
        "model.summary()"
      ]
    },
    {
      "cell_type": "code",
      "execution_count": null,
      "metadata": {
        "id": "0zANkIEjlP0g"
      },
      "outputs": [],
      "source": [
        "# Normalizing our data\n",
        "train_data.min(),train_data.max()"
      ]
    },
    {
      "cell_type": "code",
      "execution_count": null,
      "metadata": {
        "id": "hbB6JO3tlP0i"
      },
      "outputs": [],
      "source": [
        "train_data_norm = train_data/255\n",
        "test_data_norm = test_data/255"
      ]
    },
    {
      "cell_type": "code",
      "execution_count": null,
      "metadata": {
        "id": "QFos_h-flP0k"
      },
      "outputs": [],
      "source": [
        "train_data_norm.min(),train_data_norm.max()"
      ]
    },
    {
      "cell_type": "code",
      "execution_count": null,
      "metadata": {
        "id": "_XQUXHETlP0l"
      },
      "outputs": [],
      "source": [
        "tf.random.set_seed(42)\n",
        "\n",
        "model_11 = tf.keras.Sequential([\n",
        "\n",
        "    tf.keras.layers.Flatten(input_shape=(28,28)),\n",
        "    tf.keras.layers.Dense(4,activation=\"relu\"),\n",
        "    tf.keras.layers.Dense(4,activation=\"relu\"),\n",
        "    tf.keras.layers.Dense(10,activation=\"softmax\")\n",
        "])\n",
        "\n",
        "\n",
        "\n",
        "model_11.compile(loss = \"sparse_categorical_crossentropy\",\n",
        "optimizer = \"Adam\",\n",
        "metrics=[\"accuracy\"])\n",
        "\n",
        "\n",
        "norm_history = model_11.fit(train_data_norm,train_labels,epochs=10,validation_data=(test_data_norm,test_labels))"
      ]
    },
    {
      "cell_type": "code",
      "execution_count": null,
      "metadata": {
        "id": "nL21_ktAlP0l"
      },
      "outputs": [],
      "source": [
        "pd.DataFrame(non_norm_history.history).plot(title=\"Non Normalized Data\")\n",
        "\n",
        "pd.DataFrame(norm_history.history).plot(title=\"Normalized Data\")"
      ]
    },
    {
      "cell_type": "code",
      "execution_count": null,
      "metadata": {
        "id": "QVV2IkHzlP0n"
      },
      "outputs": [],
      "source": [
        "# Finding ideal learning rate\n",
        "from tensorflow.keras.callbacks import LearningRateScheduler\n",
        "\n",
        "tf.random.set_seed(42)\n",
        "\n",
        "model_12 = tf.keras.Sequential([\n",
        "\n",
        "    tf.keras.layers.Flatten(input_shape=(28,28)),\n",
        "    tf.keras.layers.Dense(4,activation=\"relu\"),\n",
        "    tf.keras.layers.Dense(4,activation=\"relu\"),\n",
        "    tf.keras.layers.Dense(10,activation=\"softmax\")\n",
        "])\n",
        "\n",
        "\n",
        "model_12.compile(loss = \"sparse_categorical_crossentropy\",\n",
        "optimizer = \"Adam\",\n",
        "metrics = [\"accuracy\"])\n",
        "\n",
        "\n",
        "lr_scheduler = LearningRateScheduler(lambda epoch : 1e-3 * 10**(epoch/20))\n",
        "\n",
        "\n",
        "history_12 = model_12.fit(train_data_norm,train_labels,epochs=40,validation_data=(test_data_norm,test_labels),callbacks=[lr_scheduler])\n",
        "\n"
      ]
    },
    {
      "cell_type": "code",
      "execution_count": null,
      "metadata": {
        "id": "MKA4BzuilP0o"
      },
      "outputs": [],
      "source": [
        "#Plotting loss curve\n",
        "\n",
        "\n",
        "# pd.DataFrame(history_12.history).plot();\n",
        "\n",
        "lrs =1e-3 * (10 ** (tf.range(40)/20))\n",
        "plt.semilogx(lrs,history_12.history[\"loss\"])\n",
        "plt.title(\"Leraning Rate\")"
      ]
    },
    {
      "cell_type": "code",
      "execution_count": null,
      "metadata": {
        "id": "xce573xRlP0p"
      },
      "outputs": [],
      "source": [
        "10**-3"
      ]
    },
    {
      "cell_type": "code",
      "execution_count": null,
      "metadata": {
        "id": "3mLIqFuDlP0q"
      },
      "outputs": [],
      "source": [
        "# Refitting the model with ideal learning rate\n",
        "\n",
        "tf.random.set_seed(42)\n",
        "\n",
        "model_13 = tf.keras.Sequential([\n",
        "\n",
        "    tf.keras.layers.Flatten(input_shape=(28,28)),\n",
        "    tf.keras.layers.Dense(4,activation=\"relu\"),\n",
        "    tf.keras.layers.Dense(4,activation=\"relu\"),\n",
        "    tf.keras.layers.Dense(10,activation=\"softmax\")\n",
        "])\n",
        "\n",
        "model_13.compile(loss = \"sparse_categorical_crossentropy\",\n",
        "optimizer = tf.keras.optimizers.Adam(learning_rate=0.001),\n",
        "metrics = [\"accuracy\"])\n",
        "\n",
        "\n",
        "history_13 = model_13.fit(train_data_norm,train_labels,validation_data=(test_data_norm,test_labels),epochs=20)"
      ]
    },
    {
      "cell_type": "code",
      "source": [],
      "metadata": {
        "id": "CukhhS-jlkZA"
      },
      "execution_count": null,
      "outputs": []
    },
    {
      "cell_type": "markdown",
      "metadata": {
        "id": "MFhcsVa6lP0q"
      },
      "source": [
        "#### Evaluate a model"
      ]
    },
    {
      "cell_type": "code",
      "execution_count": null,
      "metadata": {
        "id": "PXYI5FeGlP0r"
      },
      "outputs": [],
      "source": [
        "test_labels"
      ]
    },
    {
      "cell_type": "code",
      "execution_count": null,
      "metadata": {
        "id": "2Uf6HOj_lP0r"
      },
      "outputs": [],
      "source": [
        "y_probs = model_13.predict(test_data_norm)"
      ]
    },
    {
      "cell_type": "code",
      "execution_count": null,
      "metadata": {
        "id": "dIi5RcUYlP0s"
      },
      "outputs": [],
      "source": [
        "y_probs"
      ]
    },
    {
      "cell_type": "code",
      "execution_count": null,
      "metadata": {
        "id": "1bNTYA0ClP0s"
      },
      "outputs": [],
      "source": [
        "# Note: The following confusion matrix code is a remix of Scikit-Learn's \n",
        "# plot_confusion_matrix function - https://scikit-learn.org/stable/modules/generated/sklearn.metrics.plot_confusion_matrix.html\n",
        "# and Made with ML's introductory notebook - https://github.com/GokuMohandas/MadeWithML/blob/main/notebooks/08_Neural_Networks.ipynb \n",
        "import itertools\n",
        "\n",
        "figsize = (15, 15)\n",
        "\n",
        "# Create the confusion matrix\n",
        "cm = confusion_matrix(test_labels, y_probs.argmax(axis=1))\n",
        "cm_norm = cm.astype(\"float\") / cm.sum(axis=1)[:, np.newaxis] # normalize it\n",
        "n_classes = cm.shape[0]\n",
        "\n",
        "# Let's prettify it\n",
        "fig, ax = plt.subplots(figsize=figsize)\n",
        "# Create a matrix plot\n",
        "cax = ax.matshow(cm, cmap=plt.cm.Blues) # https://matplotlib.org/3.2.0/api/_as_gen/matplotlib.axes.Axes.matshow.html\n",
        "fig.colorbar(cax)\n",
        "\n",
        "# Create classes\n",
        "classes = class_names\n",
        "\n",
        "if classes:\n",
        "  labels = classes\n",
        "else:\n",
        "  labels = np.arange(cm.shape[0])\n",
        "\n",
        "# Label the axes\n",
        "ax.set(title=\"Confusion Matrix\",\n",
        "       xlabel=\"Predicted label\",\n",
        "       ylabel=\"True label\",\n",
        "       xticks=np.arange(n_classes),\n",
        "       yticks=np.arange(n_classes),\n",
        "       xticklabels=labels,\n",
        "       yticklabels=labels)\n",
        "\n",
        "# Set x-axis labels to bottom\n",
        "ax.xaxis.set_label_position(\"bottom\")\n",
        "ax.xaxis.tick_bottom()\n",
        "\n",
        "# Adjust label size\n",
        "ax.xaxis.label.set_size(20)\n",
        "ax.yaxis.label.set_size(20)\n",
        "ax.title.set_size(20)\n",
        "\n",
        "# Set threshold for different colors\n",
        "threshold = (cm.max() + cm.min()) / 2.\n",
        "\n",
        "# Plot the text on each cell\n",
        "for i, j in itertools.product(range(cm.shape[0]), range(cm.shape[1])):\n",
        "  plt.text(j, i, f\"{cm[i, j]} ({cm_norm[i, j]*100:.1f}%)\",\n",
        "           horizontalalignment=\"center\",\n",
        "           color=\"white\" if cm[i, j] > threshold else \"black\",\n",
        "           size=10)"
      ]
    },
    {
      "cell_type": "code",
      "execution_count": null,
      "metadata": {
        "id": "P2RIuCZ5lP0t"
      },
      "outputs": [],
      "source": [
        "import random\n",
        "\n",
        "# Create a function for plotting a random image along with its prediction\n",
        "def plot_random_image(model, images, true_labels, classes):\n",
        "\n",
        "  i = random.randint(0, len(images))\n",
        "  \n",
        "  # Create predictions and targets\n",
        "  target_image = images[i]\n",
        "  \n",
        "  pred_probs = model.predict(target_image.reshape(1,28,28)) # have to reshape to get into right size for model\n",
        "  pred_label = classes[pred_probs.argmax()]\n",
        "  true_label = classes[true_labels[i]]\n",
        "\n",
        "  # Plot the target image\n",
        "  plt.imshow(target_image, cmap=plt.cm.binary)\n",
        "\n",
        "  # Change the color of the titles depending on if the prediction is right or wrong\n",
        "  if pred_label == true_label:\n",
        "    color = \"green\"\n",
        "  else:\n",
        "    color = \"red\"\n",
        "\n",
        "  # Add xlabel information (prediction/true label)\n",
        "  plt.xlabel(\"Pred: {} {:2.0f}% (True: {})\".format(pred_label,\n",
        "                                                   100*tf.reduce_max(pred_probs),\n",
        "                                                   true_label),\n",
        "             color=color) # set the color to green or red"
      ]
    },
    {
      "cell_type": "code",
      "execution_count": null,
      "metadata": {
        "id": "FZTwAyyHlP0u"
      },
      "outputs": [],
      "source": [
        "plot_random_image(model=model_13, \n",
        "                  images=test_data, \n",
        "                  true_labels=test_labels, \n",
        "                  classes=class_names)"
      ]
    },
    {
      "cell_type": "code",
      "execution_count": null,
      "metadata": {
        "id": "IXgxFprwlP0u"
      },
      "outputs": [],
      "source": []
    },
    {
      "cell_type": "code",
      "execution_count": null,
      "metadata": {
        "id": "Eh8MPbfSlP0v"
      },
      "outputs": [],
      "source": [
        "test_data[0].reshape(1,28,28)"
      ]
    }
  ],
  "metadata": {
    "kernelspec": {
      "display_name": "Python 3.10.0 64-bit",
      "language": "python",
      "name": "python3"
    },
    "language_info": {
      "codemirror_mode": {
        "name": "ipython",
        "version": 3
      },
      "file_extension": ".py",
      "mimetype": "text/x-python",
      "name": "python",
      "nbconvert_exporter": "python",
      "pygments_lexer": "ipython3",
      "version": "3.10.0"
    },
    "orig_nbformat": 4,
    "vscode": {
      "interpreter": {
        "hash": "a42ccb73e7d9bfdf27e036f1d2b8b681e55fc0743cc5586bc2474d4a60f4b886"
      }
    },
    "colab": {
      "provenance": [],
      "toc_visible": true,
      "include_colab_link": true
    }
  },
  "nbformat": 4,
  "nbformat_minor": 0
}